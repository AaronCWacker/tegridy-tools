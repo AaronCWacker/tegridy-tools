{
  "nbformat": 4,
  "nbformat_minor": 0,
  "metadata": {
    "colab": {
      "name": "GPT2_Models_Downloader.ipynb",
      "private_outputs": true,
      "provenance": [],
      "collapsed_sections": [],
      "toc_visible": true
    },
    "kernelspec": {
      "name": "python3",
      "display_name": "Python 3"
    },
    "language_info": {
      "name": "python"
    }
  },
  "cells": [
    {
      "cell_type": "markdown",
      "metadata": {
        "id": "Nz1pdgnyRY2c"
      },
      "source": [
        "# GPT2 Models Downloader (Ver 1.0)\n",
        "\n",
        "***\n",
        "\n",
        "WIP, so please check back for updates and improvements.\n",
        "\n",
        "***\n",
        "\n",
        "Project Los Angeles\n",
        "\n",
        "Tegridy Code 2021"
      ]
    },
    {
      "cell_type": "code",
      "metadata": {
        "id": "2ncfLCBPsX2K"
      },
      "source": [
        "import os\n",
        "import requests\n",
        "import tqdm\n",
        "from tqdm import auto"
      ],
      "execution_count": null,
      "outputs": []
    },
    {
      "cell_type": "code",
      "metadata": {
        "id": "G-8GWlRGryuQ"
      },
      "source": [
        "def download_file_with_progress(url_base, sub_dir, model_name, file_name):\n",
        "    \"\"\"General utility for incrementally downloading files from the internet\n",
        "    with progress bar\n",
        "    from url_base / sub_dir / filename\n",
        "    to local file system sub_dir / filename\n",
        "\n",
        "    Parameters\n",
        "    ----------\n",
        "    file_name : str\n",
        "        name of file to get e.g. \"hparams.json\"\n",
        "    sub_dir: str\n",
        "        subdirectory inside which to get and copy locally eg. \"models/124M\" \n",
        "        no trailing slash\n",
        "    url_base : str\n",
        "        Start of URL location specifying server and any base directories no \n",
        "        trailing slash\n",
        "        e.g. \"https://storage.googleapis.com/gpt-2\"\n",
        "    \"\"\"\n",
        "\n",
        "    # set to download 1MB at a time. This could be much larger with no issue\n",
        "    DOWNLOAD_CHUNK_SIZE = 1024 * 1024\n",
        "    r = requests.get(url_base + \"/models/\" + model_name + \"/\" + file_name, stream=True)\n",
        "    with open(os.path.join(sub_dir, file_name), 'wb') as f:\n",
        "        file_size = int(r.headers[\"content-length\"])\n",
        "        with tqdm.auto.tqdm(ncols=100, desc=\"Fetching \" + file_name,\n",
        "                  total=file_size, unit_scale=True) as pbar:\n",
        "            for chunk in r.iter_content(chunk_size=DOWNLOAD_CHUNK_SIZE):\n",
        "                f.write(chunk)\n",
        "                pbar.update(DOWNLOAD_CHUNK_SIZE)\n",
        "\n",
        "\n",
        "def download_gpt2(model_dir='models', model_name='124M'):\n",
        "    \"\"\"Downloads the GPT-2 model into the current directory\n",
        "    from Google Cloud Storage.\n",
        "\n",
        "    Parameters\n",
        "    ----------\n",
        "    model_dir : str\n",
        "        parent directory of model to download\n",
        "\n",
        "    model_name : str\n",
        "        name of the GPT-2 model to download. \n",
        "        As of 22 May 2019 one of \"124M\" or \"355M\" but may later include other \n",
        "        model sizes\n",
        "\n",
        "    Adapted from https://github.com/openai/gpt-2/blob/master/download_model.py\n",
        "    \"\"\"\n",
        "\n",
        "    # create the <model_dir>/<model_name> subdirectory if not present\n",
        "    sub_dir = os.path.join(model_dir, model_name)\n",
        "    if not os.path.exists(sub_dir):\n",
        "        os.makedirs(sub_dir)\n",
        "    sub_dir = sub_dir.replace('\\\\', '/')  # needed for Windows\n",
        "\n",
        "    for file_name in ['checkpoint', 'encoder.json', 'hparams.json',\n",
        "                      'model.ckpt.data-00000-of-00001', 'model.ckpt.index',\n",
        "                      'model.ckpt.meta', 'vocab.bpe']:\n",
        "        download_file_with_progress(url_base=\"https://openaipublic.blob.core.windows.net/gpt-2\",\n",
        "                                    sub_dir=sub_dir,\n",
        "                                    model_name=model_name,\n",
        "                                    file_name=file_name)"
      ],
      "execution_count": null,
      "outputs": []
    },
    {
      "cell_type": "code",
      "metadata": {
        "id": "RgwKFC-rRwja"
      },
      "source": [
        "download_gpt2(model_name='1558M')"
      ],
      "execution_count": null,
      "outputs": []
    }
  ]
}