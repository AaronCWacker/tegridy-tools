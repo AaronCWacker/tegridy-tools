{
  "nbformat": 4,
  "nbformat_minor": 0,
  "metadata": {
    "colab": {
      "name": "MIDI_PR_MIDI_Converter.ipynb",
      "private_outputs": true,
      "provenance": [],
      "collapsed_sections": []
    },
    "kernelspec": {
      "name": "python3",
      "display_name": "Python 3"
    },
    "language_info": {
      "name": "python"
    }
  },
  "cells": [
    {
      "cell_type": "markdown",
      "metadata": {
        "id": "kEmtQlczQrCB"
      },
      "source": [
        "# MIDI-Piano-Roll-MIDI Converter (Ver 1.0)\n",
        "\n",
        "***\n",
        "\n",
        "WIP, so please check back for updates and improvements.\n",
        "\n",
        "***\n",
        "\n",
        "Project Los Angeles\n",
        "\n",
        "Tegridy Code 2021"
      ]
    },
    {
      "cell_type": "code",
      "metadata": {
        "id": "kQbb4BY17nN6"
      },
      "source": [
        "!pip install pretty_midi"
      ],
      "execution_count": null,
      "outputs": []
    },
    {
      "cell_type": "code",
      "metadata": {
        "id": "NJf35l6u7kJu"
      },
      "source": [
        "import warnings\n",
        "import pretty_midi as pm\n",
        "import numpy as np\n",
        "from tqdm import tqdm\n",
        "\n",
        "def midi_to_roll(path, output_length, augment=False) -> np.ndarray:\n",
        "    with warnings.catch_warnings():\n",
        "        warnings.simplefilter('ignore')\n",
        "        song = pm.PrettyMIDI(str(path))\n",
        "    event_list = []\n",
        "    for inst in song.instruments:\n",
        "        for note in inst.notes:\n",
        "            event_list.append((\n",
        "                int(note.start * 2048),\n",
        "                (128 if inst.is_drum else inst.program),\n",
        "                note.pitch,\n",
        "                note.velocity,\n",
        "                int(note.end * 2048)\n",
        "            ))\n",
        "    event_list.sort()\n",
        "    input_list = [[129, 128, 128, 128, 128, 128, 128]]\n",
        "    current_time = 0\n",
        "    pitch_augment = np.random.randint(-6, 6) if augment else 0\n",
        "    velocity_augment = np.random.randint(-10, 11) if augment else 0\n",
        "    time_augment = np.random.rand() + 0.5 if augment else 1\n",
        "    for event in event_list:\n",
        "        delta = min(int((event[0] - current_time) * time_augment), 16383)\n",
        "        dur = min(int((event[4] - event[0]) * time_augment), 16383)\n",
        "        instrument = event[1]\n",
        "        pitch = min(max(event[2] + pitch_augment, 0), 127)\n",
        "        velocity = min(max(event[3] + velocity_augment, 0), 127)\n",
        "        input_list.append([\n",
        "            instrument, pitch, velocity,\n",
        "            dur // 128, dur % 128, delta // 128, delta % 128\n",
        "        ])\n",
        "        current_time = event[0]\n",
        "    input_list.append([130, 129, 129, 129, 129, 129, 129])\n",
        "    if len(input_list) < output_length:\n",
        "        input_list.extend([[131, 130, 130, 130, 130, 130, 130]] * (output_length - len(input_list)))\n",
        "    num = int(np.random.randint(0, len(input_list) - output_length + 1))\n",
        "    output = np.array(input_list[num : num + output_length], dtype=np.int64)\n",
        "    return output\n",
        "\n",
        "def roll_to_midi(roll: np.array) -> pm.PrettyMIDI:\n",
        "    midi = pm.PrettyMIDI(resolution=960)\n",
        "    instruments = [pm.Instrument(i) for i in range(128)] \\\n",
        "                + [pm.Instrument(0, is_drum=True)]\n",
        "    current_time = 0\n",
        "    for event in roll:\n",
        "        if event[0] == 130 or 129 in event[1:]:\n",
        "            break\n",
        "        if event[0] == 129 or 128 in event[1:]:\n",
        "            continue\n",
        "        if event[0] == 131 or 130 in event[1:]:\n",
        "            continue\n",
        "        instrument = event[0]\n",
        "        pitch = event[1]\n",
        "        velocity = event[2]\n",
        "        dur = event[3] * 128 + event[4]\n",
        "        delta = event[5] * 128 + event[6]\n",
        "        instruments[instrument].notes.append(\n",
        "            pm.Note(\n",
        "                velocity=velocity,\n",
        "                pitch=pitch,\n",
        "                start=(current_time + delta) / 2048,\n",
        "                end=(current_time + delta + dur) / 2048\n",
        "            )\n",
        "        )\n",
        "        current_time += delta\n",
        "    for inst in instruments:\n",
        "        if inst.notes:\n",
        "            midi.instruments.append(inst)\n",
        "    return midi\n"
      ],
      "execution_count": null,
      "outputs": []
    },
    {
      "cell_type": "code",
      "metadata": {
        "id": "60K-TBuR7uN_"
      },
      "source": [
        "Z = midi_to_roll('/content/DRM Guitar 1.mid', output_length=1000)"
      ],
      "execution_count": null,
      "outputs": []
    },
    {
      "cell_type": "code",
      "metadata": {
        "id": "V0Bb5dAo9Hmo"
      },
      "source": [
        "Z[0]"
      ],
      "execution_count": null,
      "outputs": []
    },
    {
      "cell_type": "code",
      "metadata": {
        "id": "C3kRXJYS8Gmy"
      },
      "source": [
        "P = roll_to_midi(Z)"
      ],
      "execution_count": null,
      "outputs": []
    },
    {
      "cell_type": "code",
      "metadata": {
        "id": "FtQ0mYEt8Qq6"
      },
      "source": [
        "P.write('/content/OUTPUT.mid')"
      ],
      "execution_count": null,
      "outputs": []
    }
  ]
}