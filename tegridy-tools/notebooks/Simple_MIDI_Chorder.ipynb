{
  "nbformat": 4,
  "nbformat_minor": 0,
  "metadata": {
    "colab": {
      "name": "Simple_MIDI_Chorder.ipynb",
      "private_outputs": true,
      "provenance": [],
      "collapsed_sections": [],
      "machine_shape": "hm"
    },
    "kernelspec": {
      "name": "python3",
      "display_name": "Python 3"
    },
    "language_info": {
      "name": "python"
    }
  },
  "cells": [
    {
      "cell_type": "markdown",
      "metadata": {
        "id": "IASaUioGaTdW"
      },
      "source": [
        "# Simple MIDI Chorder\n",
        "\n",
        "***\n",
        "\n",
        "### A simple, yet very capable MIDI chords detector and annotator\n",
        "\n",
        "***\n",
        "\n",
        "### Based upon Yating Music repo/code: \n",
        "\n",
        "https://github.com/YatingMusic/compound-word-transformer\n",
        "\n",
        "### And chorder repo/code by Joshua Chang:\n",
        "\n",
        "https://github.com/joshuachang2311/chorder\n",
        "\n",
        "***\n",
        "\n",
        "#### Project Los Angeles\n",
        "\n",
        "#### Tegridy Code 2021\n",
        "\n",
        "***\n"
      ]
    },
    {
      "cell_type": "markdown",
      "metadata": {
        "id": "4q3vvWAueGiv"
      },
      "source": [
        "# Setup Environment"
      ]
    },
    {
      "cell_type": "code",
      "metadata": {
        "id": "TqnjCzqsWIEs",
        "cellView": "form"
      },
      "source": [
        "#@title Install dependencies\n",
        "!pip install miditoolkit\n",
        "!pip install chorder"
      ],
      "execution_count": null,
      "outputs": []
    },
    {
      "cell_type": "code",
      "metadata": {
        "cellView": "form",
        "id": "1cFvJby0bhl8"
      },
      "source": [
        "#@title Import needed modules and create IO dirs\n",
        "import os\n",
        "import copy\n",
        "import numpy as np\n",
        "import multiprocessing as mp\n",
        "\n",
        "import miditoolkit \n",
        "from miditoolkit.midi import parser as mid_parser\n",
        "from miditoolkit.pianoroll import parser as pr_parser\n",
        "from miditoolkit.midi.containers import Marker, Instrument, TempoChange\n",
        "\n",
        "from chorder import Dechorder\n",
        "\n",
        "if not os.path.exists('./Input_MIDIs'):\n",
        "  os.mkdir('./Input_MIDIs')\n",
        "if not os.path.exists('./Chorded_MIDIs'):\n",
        "  os.mkdir('./Chorded_MIDIs')"
      ],
      "execution_count": null,
      "outputs": []
    },
    {
      "cell_type": "markdown",
      "metadata": {
        "id": "0mJ_dRpLeI4-"
      },
      "source": [
        "# Chord MIDIs\n",
        "\n",
        "Default input dir is ./Input_MIDIs. Upload your MIDIs in this dir.\n",
        "\n",
        "Default output dir is ./Chorded_MIDIs. Pick-up your chorded MIDIs from this dir."
      ]
    },
    {
      "cell_type": "code",
      "metadata": {
        "id": "jAcwRokPWGAc",
        "cellView": "form"
      },
      "source": [
        "#@title Run this code to chord your MIDIs\n",
        "num2pitch = {\n",
        "    0: 'C',\n",
        "    1: 'C#',\n",
        "    2: 'D',\n",
        "    3: 'D#',\n",
        "    4: 'E',\n",
        "    5: 'F',\n",
        "    6: 'F#',\n",
        "    7: 'G',\n",
        "    8: 'G#',\n",
        "    9: 'A',\n",
        "    10: 'A#',\n",
        "    11: 'B',\n",
        "}\n",
        "\n",
        "\n",
        "def traverse_dir(\n",
        "        root_dir,\n",
        "        extension=('mid', 'MID', 'midi'),\n",
        "        amount=None,\n",
        "        str_=None,\n",
        "        is_pure=False,\n",
        "        verbose=False,\n",
        "        is_sort=False,\n",
        "        is_ext=True):\n",
        "    if verbose:\n",
        "        print('[*] Scanning...')\n",
        "    file_list = []\n",
        "    cnt = 0\n",
        "    for root, _, files in os.walk(root_dir):\n",
        "        for file in files:\n",
        "            if file.endswith(extension):\n",
        "                if (amount is not None) and (cnt == amount):\n",
        "                    break\n",
        "                if str_ is not None:\n",
        "                    if str_ not in file:\n",
        "                        continue\n",
        "                mix_path = os.path.join(root, file)\n",
        "                pure_path = mix_path[len(root_dir)+1:] if is_pure else mix_path\n",
        "                if not is_ext:\n",
        "                    ext = pure_path.split('.')[-1]\n",
        "                    pure_path = pure_path[:-(len(ext)+1)]\n",
        "                if verbose:\n",
        "                    print(pure_path)\n",
        "                file_list.append(pure_path)\n",
        "                cnt += 1\n",
        "    if verbose:\n",
        "        print('Total: %d files' % len(file_list))\n",
        "        print('Done!!!')\n",
        "    if is_sort:\n",
        "        file_list.sort()\n",
        "    return file_list\n",
        "\n",
        "\n",
        "def proc_one(path_infile, path_outfile):\n",
        "    print('----')\n",
        "    print(' >', path_infile)\n",
        "    print(' >', path_outfile)\n",
        "\n",
        "    # load\n",
        "    midi_obj = miditoolkit.midi.parser.MidiFile(path_infile)\n",
        "    midi_obj_out = copy.deepcopy(midi_obj)\n",
        "    notes = midi_obj.instruments[0].notes\n",
        "    notes = sorted(notes, key=lambda x: (x.start, x.pitch))\n",
        "\n",
        "    # --- chord --- #\n",
        "    # exctract chord\n",
        "    chords = Dechorder.dechord(midi_obj)\n",
        "    markers = []\n",
        "    for cidx, chord in enumerate(chords):\n",
        "        if chord.is_complete():\n",
        "            chord_text = num2pitch[chord.root_pc] + '_' + chord.quality + '_' + num2pitch[chord.bass_pc]\n",
        "        else:\n",
        "            chord_text = 'N_N_N'\n",
        "        markers.append(Marker(time=int(cidx*480), text=chord_text))\n",
        "\n",
        "    # dedup\n",
        "    prev_chord = None\n",
        "    dedup_chords = []\n",
        "    for m in markers:\n",
        "        if m.text != prev_chord:\n",
        "            prev_chord = m.text\n",
        "            dedup_chords.append(m)\n",
        "\n",
        "    # --- global properties --- #\n",
        "    # global tempo\n",
        "    tempos = [b.tempo for b in midi_obj.tempo_changes][:40]\n",
        "    tempo_median = np.median(tempos)\n",
        "    global_bpm =int(tempo_median)\n",
        "    print(' > [global] bpm:', global_bpm)\n",
        "    \n",
        "    # === save === #\n",
        "    # mkdir\n",
        "    fn = os.path.basename(path_outfile)\n",
        "    os.makedirs(path_outfile[:-len(fn)], exist_ok=True)\n",
        "\n",
        "    # markers\n",
        "    midi_obj_out.markers = dedup_chords\n",
        "    midi_obj_out.markers.insert(0, Marker(text='global_bpm_'+str(int(global_bpm)), time=0))\n",
        "\n",
        "    # save\n",
        "    midi_obj_out.instruments[0].name = 'piano'\n",
        "    midi_obj_out.dump(path_outfile)\n",
        "\n",
        "\n",
        "if __name__ == '__main__':\n",
        "    # paths\n",
        "    path_indir = './Input_MIDIs'\n",
        "    path_outdir = './Chorded_MIDIs'\n",
        "    os.makedirs(path_outdir, exist_ok=True)\n",
        "\n",
        "    # list files\n",
        "    midifiles = traverse_dir(\n",
        "        path_indir,\n",
        "        is_pure=True,\n",
        "        is_sort=True)\n",
        "    n_files = len(midifiles)\n",
        "    print('num fiels:', n_files)\n",
        "\n",
        "    # collect\n",
        "    data = []\n",
        "    for fidx in range(n_files): \n",
        "        path_midi = midifiles[fidx]\n",
        "        print('{}/{}'.format(fidx, n_files))\n",
        "\n",
        "        # paths\n",
        "        path_infile = os.path.join(path_indir, path_midi)\n",
        "        path_outfile = os.path.join(path_outdir, path_midi)\n",
        "        \n",
        "        # append\n",
        "        data.append([path_infile, path_outfile])\n",
        "\n",
        "    # run, multi-thread\n",
        "    pool = mp.Pool()\n",
        "    pool.starmap(proc_one, data)"
      ],
      "execution_count": null,
      "outputs": []
    },
    {
      "cell_type": "markdown",
      "metadata": {
        "id": "SDoNb1T2d42v"
      },
      "source": [
        "# Congrats! You did it! :)"
      ]
    }
  ]
}