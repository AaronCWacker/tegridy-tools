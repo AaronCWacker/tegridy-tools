{
  "nbformat": 4,
  "nbformat_minor": 0,
  "metadata": {
    "kernelspec": {
      "display_name": "Python 3",
      "language": "python",
      "name": "python3"
    },
    "language_info": {
      "codemirror_mode": {
        "name": "ipython",
        "version": 3
      },
      "file_extension": ".py",
      "mimetype": "text/x-python",
      "name": "python",
      "nbconvert_exporter": "python",
      "pygments_lexer": "ipython3",
      "version": "3.7.0"
    },
    "colab": {
      "name": "MIDI-RPR-MIDI.ipynb",
      "private_outputs": true,
      "provenance": [],
      "collapsed_sections": [],
      "toc_visible": true,
      "machine_shape": "hm"
    }
  },
  "cells": [
    {
      "cell_type": "markdown",
      "metadata": {
        "id": "iWa_W-_VYdZt"
      },
      "source": [
        "# MIDI-Notes-Representations-MIDI (Ver 1.0)\n",
        "\n",
        "***\n",
        "\n",
        "### Based on the repo/code of Music X Lab at NYU Shanghai:\n",
        "\n",
        "### https://github.com/music-x-lab/POP909-Dataset\n",
        "\n",
        "***\n",
        "\n",
        "### This is WIP, so please check back for updates and improvements\n",
        "\n",
        "***\n",
        "\n",
        "#### Project Los Angeles\n",
        "\n",
        "#### Tegridy Code 2021"
      ]
    },
    {
      "cell_type": "markdown",
      "metadata": {
        "id": "mV5hnZrY33wd"
      },
      "source": [
        "# Setup Environment"
      ]
    },
    {
      "cell_type": "code",
      "metadata": {
        "id": "Fg1wV4HUTLzV",
        "cellView": "form"
      },
      "source": [
        "#@title Install dependecies\n",
        "\n",
        "!pip install pretty_midi\n",
        "!pip install utils\n",
        "!git clone https://github.com/asigalov61/tegridy-tools/"
      ],
      "execution_count": null,
      "outputs": []
    },
    {
      "cell_type": "code",
      "metadata": {
        "id": "rHZ4ssxjSXrT",
        "cellView": "form"
      },
      "source": [
        "#@title Import needed modules and create IO dirs\n",
        "import pickle\n",
        "import os\n",
        "import sys\n",
        "# import utils\n",
        "import numpy as np\n",
        "import pretty_midi as pyd\n",
        "from pretty_midi import Note\n",
        "\n",
        "os.chdir('/content/tegridy-tools/tegridy-tools')\n",
        "import TMIDI\n",
        "os.chdir('/content')\n",
        "\n",
        "if not os.path.exists('/content/Dataset'):\n",
        "  os.mkdir('/content/Dataset')\n",
        "\n",
        "if not os.path.exists('/content/Output'):\n",
        "  os.mkdir('/content/Output')"
      ],
      "execution_count": null,
      "outputs": []
    },
    {
      "cell_type": "code",
      "metadata": {
        "cellView": "form",
        "id": "w0Ob76SK4I66"
      },
      "source": [
        "#@title Download special Tegridy Piano MIDI dataset\n",
        "\n",
        "#@markdown Works best stand-alone/as-is for the optimal results\n",
        "%cd /content/Dataset/\n",
        "\n",
        "!wget 'https://github.com/asigalov61/Tegridy-MIDI-Dataset/raw/master/Tegridy-Piano-CC-BY-NC-SA.zip'\n",
        "!unzip -j '/content/Dataset/Tegridy-Piano-CC-BY-NC-SA.zip'\n",
        "!rm '/content/Dataset/Tegridy-Piano-CC-BY-NC-SA.zip'\n",
        "\n",
        "%cd /content/"
      ],
      "execution_count": null,
      "outputs": []
    },
    {
      "cell_type": "markdown",
      "metadata": {
        "id": "1e2jqvfT32zf"
      },
      "source": [
        "# Setup classes and functions"
      ]
    },
    {
      "cell_type": "code",
      "metadata": {
        "id": "FtTL1cf4TFvU",
        "cellView": "form"
      },
      "source": [
        "#@title Setup MIDI processing functions\n",
        "'''\n",
        "This is the data processing script\n",
        "============\n",
        "It will allow you to quickly process the MIDI Files into the Google Magenta's music representation \n",
        "    as like [Music Transformer](https://magenta.tensorflow.org/music-transformer) \n",
        "            [Performance RNN](https://magenta.tensorflow.org/performance-rnn).\n",
        "\n",
        "'''\n",
        "\n",
        "total = 0\n",
        "def process_midi(path):\n",
        "    global total\n",
        "    data = pyd.PrettyMIDI(path)\n",
        "    main_notes = []\n",
        "    acc_notes = []\n",
        "    for ins in data.instruments:\n",
        "        acc_notes.extend(ins.notes)\n",
        "    for i in range(len(main_notes)):\n",
        "        main_notes[i].start = round(main_notes[i].start,2)\n",
        "        main_notes[i].end = round(main_notes[i].end,2)\n",
        "    for i in range(len(acc_notes)):\n",
        "        acc_notes[i].start = round(acc_notes[i].start,2)\n",
        "        acc_notes[i].end = round(acc_notes[i].end,2)\n",
        "    main_notes.sort(key = lambda x:x.start)\n",
        "    acc_notes.sort(key = lambda x:x.start)\n",
        "    mpr = TMIDI.Tegridy_RPR_MidiEventProcessor()\n",
        "    repr_seq = mpr.encode(acc_notes)\n",
        "    total += len(repr_seq)\n",
        "    return repr_seq\n",
        "from pprint import pprint\n",
        "def process_all_midis(midi_root, save_dir):\n",
        "    save_py = []\n",
        "    midi_paths = [d for d in os.listdir(midi_root)]\n",
        "    i = 0\n",
        "    out_fmt = '{}-{}.data'\n",
        "    for path in midi_paths:\n",
        "        pprint(path)\n",
        "        filename = midi_root + path\n",
        "        try:\n",
        "            data = process_midi(filename)\n",
        "        except KeyboardInterrupt:\n",
        "            print(' Abort')\n",
        "            return\n",
        "        except EOFError:\n",
        "            print('EOF Error')\n",
        "            return\n",
        "        save_py.append(data)\n",
        "    # pprint(save_py, compact=True)    \n",
        "    save_py = np.array(save_py, dtype='object')\n",
        "    print('Total number of MIDIs:', save_py.size)\n",
        "    np.save(\"/content/Output/notes_representations.npy\", save_py)"
      ],
      "execution_count": null,
      "outputs": []
    },
    {
      "cell_type": "markdown",
      "metadata": {
        "id": "5HqltFeDzD6S"
      },
      "source": [
        "# Use examples"
      ]
    },
    {
      "cell_type": "code",
      "metadata": {
        "cellView": "form",
        "id": "MKJlXFoTw_s7"
      },
      "source": [
        "#@title Convert a sample MIDI to the RPR and print the result\n",
        "repr_seq = process_midi('/content/tegridy-tools/tegridy-tools/seed.mid')\n",
        "print(repr_seq)"
      ],
      "execution_count": null,
      "outputs": []
    },
    {
      "cell_type": "code",
      "metadata": {
        "id": "iZ9aDyqQus3M",
        "cellView": "form"
      },
      "source": [
        "#@title Convert created RPR back to MIDI file\n",
        "# Create a PrettyMIDI object\n",
        "output = pyd.PrettyMIDI()\n",
        "# Create an Instrument instance for a piano instrument\n",
        "output_program = pyd.instrument_name_to_program('Acoustic Grand Piano')\n",
        "piano = pyd.Instrument(program=output_program)\n",
        "\n",
        "# Decode representations into Pretty_MIDI notes\n",
        "mpr = TMIDI.Tegridy_RPR_MidiEventProcessor()\n",
        "notes = mpr.decode(repr_seq)\n",
        "\n",
        "# Add notes to the Pretty MIDI object\n",
        "piano.notes.extend(notes)\n",
        "\n",
        "output.instruments.append(piano)\n",
        "# Write out the MIDI data\n",
        "output.write('/content/Output/output.mid')\n",
        "print('Saved as /content/Output/output.mid')"
      ],
      "execution_count": null,
      "outputs": []
    },
    {
      "cell_type": "code",
      "metadata": {
        "id": "7dM3eKdcnzKC",
        "cellView": "form"
      },
      "source": [
        "#@title Convert ALL MIDIs in the Dataset folder to the RPR Numpy Array\n",
        "# Process all MIDIs in the Dataset folder into Notes representations Numpy Array\n",
        "process_all_midis(\"/content/Dataset/\",\"/content/Output/\")"
      ],
      "execution_count": null,
      "outputs": []
    },
    {
      "cell_type": "code",
      "metadata": {
        "id": "HZPkgSN12VAb",
        "cellView": "form"
      },
      "source": [
        "#@title Print resulting Numpy Array for debug/eval\n",
        "np.load('/content/Output/notes_representations.npy', allow_pickle=True)"
      ],
      "execution_count": null,
      "outputs": []
    },
    {
      "cell_type": "code",
      "metadata": {
        "cellView": "form",
        "id": "NR3E0IVl267K"
      },
      "source": [
        "#@title Print first element (MIDI RPR) in the resulting Numpy Array for debug/eval\n",
        "pprint(np.load('/content/Output/notes_representations.npy', allow_pickle=True)\n",
        "[0], compact=True)"
      ],
      "execution_count": null,
      "outputs": []
    },
    {
      "cell_type": "markdown",
      "metadata": {
        "id": "Fjmr8oIu43kw"
      },
      "source": [
        "# Congrats! You've done it!\n",
        "\n",
        "# Enjoy! :)"
      ]
    }
  ]
}