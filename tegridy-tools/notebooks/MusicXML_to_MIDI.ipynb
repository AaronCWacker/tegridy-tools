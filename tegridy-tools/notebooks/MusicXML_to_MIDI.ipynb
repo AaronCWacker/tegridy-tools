{
  "nbformat": 4,
  "nbformat_minor": 0,
  "metadata": {
    "colab": {
      "provenance": [],
      "collapsed_sections": [],
      "private_outputs": true
    },
    "kernelspec": {
      "name": "python3",
      "display_name": "Python 3"
    },
    "language_info": {
      "name": "python"
    },
    "gpuClass": "standard"
  },
  "cells": [
    {
      "cell_type": "markdown",
      "source": [
        "# Basic MusicXML to MIDI converter/parser\n",
        "\n",
        "***"
      ],
      "metadata": {
        "id": "wvlLIB86uiju"
      }
    },
    {
      "cell_type": "markdown",
      "source": [
        "## Uses codebase from https://github.com/mac-marg-pianist/musicXML_parser\n",
        "\n",
        "***"
      ],
      "metadata": {
        "id": "w8hMZ68m9bfD"
      }
    },
    {
      "cell_type": "markdown",
      "source": [
        "# Install Dependencies"
      ],
      "metadata": {
        "id": "PG3FBFD0uuHN"
      }
    },
    {
      "cell_type": "code",
      "source": [
        "%cd /content\n",
        "!git clone https://github.com/asigalov61/tegridy-tools"
      ],
      "metadata": {
        "id": "hL4bIfSO_QIO"
      },
      "execution_count": null,
      "outputs": []
    },
    {
      "cell_type": "markdown",
      "source": [
        "# Import Modules"
      ],
      "metadata": {
        "id": "U7DQQJsEu98h"
      }
    },
    {
      "cell_type": "code",
      "source": [
        "import os\n",
        "import tqdm\n",
        "import random\n",
        "\n",
        "if not os.path.exists('/content/XMLs'):\n",
        "    os.makedirs('/content/XMLs')\n",
        "\n",
        "if not os.path.exists('/content/MIDIs'):\n",
        "    os.makedirs('/content/MIDIs')\n",
        "\n",
        "%cd /content/tegridy-tools/tegridy-tools/\n",
        "import TMIDIX\n",
        "\n",
        "%cd /content/tegridy-tools/tegridy-tools/musicxml_parser\n",
        "from main import *\n",
        "\n",
        "%cd /content"
      ],
      "metadata": {
        "id": "O7jaeOp-DdQ8"
      },
      "execution_count": null,
      "outputs": []
    },
    {
      "cell_type": "markdown",
      "source": [
        "# Convert"
      ],
      "metadata": {
        "id": "iAHgkFO_DnBG"
      }
    },
    {
      "cell_type": "code",
      "source": [
        "sorted_or_random_file_loading_order = True # Sorted order is NOT usually recommended\n",
        "dataset_ratio = 1 # Change this if you need more data\n",
        "\n",
        "\n",
        "print('XML to MIDI Processor')\n",
        "print('Starting up...')\n",
        "\n",
        "###########\n",
        "\n",
        "files_count = 0\n",
        "\n",
        "gfiles = []\n",
        "\n",
        "melody_chords_f = []\n",
        "\n",
        "###########\n",
        "\n",
        "print('Loading XML files...')\n",
        "print('This may take a while on a large dataset in particular.')\n",
        "\n",
        "dataset_addr = \"/content/XMLs\"\n",
        "\n",
        "# os.chdir(dataset_addr)\n",
        "filez = list()\n",
        "for (dirpath, dirnames, filenames) in os.walk(dataset_addr):\n",
        "    filez += [os.path.join(dirpath, file) for file in filenames]\n",
        "print('=' * 70)\n",
        "\n",
        "if filez == []:\n",
        "    print('Could not find any XML files. Please check XMLs dir...')\n",
        "    print('=' * 70)\n",
        "\n",
        "if sorted_or_random_file_loading_order:\n",
        "    print('Sorting files...')\n",
        "    filez.sort()\n",
        "    print('Done!')\n",
        "    print('=' * 70)\n",
        "else:\n",
        "    print('Randomizing file list...')\n",
        "    random.shuffle(filez)\n",
        "\n",
        "\n",
        "print('Processing XML files. Please wait...')\n",
        "for f in tqdm.tqdm(filez[:int(len(filez) * dataset_ratio)]):\n",
        "\n",
        "        dir = os.path.dirname(f).split('/')[-1]\n",
        "\n",
        "        fn = os.path.basename(f)\n",
        "        fn1 = fn.split('.')[0]\n",
        "\n",
        "        try:\n",
        "          XML = MusicXMLDocument(f)\n",
        "\n",
        "          MIDI_resolution = XML.midi_resolution\n",
        "\n",
        "          key_signature = XML.get_key_signatures()[0].__str__()\n",
        "\n",
        "          notes, rests = XML.get_notes()\n",
        "\n",
        "          song = []\n",
        "\n",
        "          time = 0\n",
        "          for n in notes:\n",
        "            patch = n.midi_program\n",
        "            \n",
        "            time = n.note_duration.time_position * 550\n",
        "            dur = n.note_duration.midi_ticks\n",
        "            chan = n.midi_channel\n",
        "            pitch = n.pitch[1]\n",
        "            velocity = n.velocity\n",
        "\n",
        "            song.append(['note', time, dur, chan, pitch, velocity])\n",
        "\n",
        "          fname = '/content/MIDIs/'+ fn1\n",
        "\n",
        "          TMIDIX.Tegridy_SONG_to_MIDI_Converter(song, \n",
        "                                                output_signature=fn1,\n",
        "                                                track_name=key_signature,\n",
        "                                                number_of_ticks_per_quarter=500, \n",
        "                                                output_file_name=fname)\n",
        "          #break\n",
        "\n",
        "        except KeyboardInterrupt:\n",
        "          break\n",
        "        \n",
        "        except:\n",
        "          print('Bad XML:', f)\n",
        "          continue"
      ],
      "metadata": {
        "id": "budLWXKgaNca"
      },
      "execution_count": null,
      "outputs": []
    },
    {
      "cell_type": "markdown",
      "source": [
        "# Congrats! You did it! :)"
      ],
      "metadata": {
        "id": "ceFCbFZ3vt3p"
      }
    }
  ]
}