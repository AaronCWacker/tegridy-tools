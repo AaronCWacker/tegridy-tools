{
  "nbformat": 4,
  "nbformat_minor": 0,
  "metadata": {
    "colab": {
      "name": "MIDI Piano Beats Generator.ipynb",
      "provenance": [],
      "collapsed_sections": []
    },
    "kernelspec": {
      "name": "python3",
      "display_name": "Python 3"
    },
    "language_info": {
      "name": "python"
    }
  },
  "cells": [
    {
      "cell_type": "markdown",
      "metadata": {
        "id": "fQxtT_F7kCE2"
      },
      "source": [
        "# MIDI Piano Beats Generator (ver 1.0)\n",
        "\n",
        "***\n",
        "\n",
        "## Simple MIDI Performance Piano Beats Generator\n",
        "\n",
        "***\n",
        "\n",
        "### Project Los Angeles\n",
        "### Tegridy Code 2021\n",
        "\n",
        "***"
      ]
    },
    {
      "cell_type": "markdown",
      "metadata": {
        "id": "5Z21mninkdEm"
      },
      "source": [
        "# Setup environment"
      ]
    },
    {
      "cell_type": "code",
      "metadata": {
        "cellView": "form",
        "id": "0QpI3XdQL3Bm"
      },
      "source": [
        "#@title Install all dependencies (run only once per session)\n",
        "\n",
        "!git clone https://github.com/asigalov61/tegridy-tools\n",
        "!pip install tqdm"
      ],
      "execution_count": null,
      "outputs": []
    },
    {
      "cell_type": "code",
      "metadata": {
        "cellView": "form",
        "id": "iBAbVWRrMB1S"
      },
      "source": [
        "#@title Import all needed modules\n",
        "\n",
        "print('Loading needed modules. Please wait...')\n",
        "import os\n",
        "from datetime import datetime\n",
        "import secrets\n",
        "import numpy as np\n",
        "import matplotlib.pyplot as plt\n",
        "import copy\n",
        "import tqdm\n",
        "from tqdm import auto\n",
        "\n",
        "print('Loading TMIDIX module...')\n",
        "os.chdir('/content/tegridy-tools/tegridy-tools')\n",
        "import TMIDIX\n",
        "\n",
        "from IPython.display import display, Javascript, HTML, Audio\n",
        "\n",
        "from google.colab import output, drive\n",
        "\n",
        "os.chdir('/content/')\n",
        "print('Loading complete. Enjoy! :)')"
      ],
      "execution_count": null,
      "outputs": []
    },
    {
      "cell_type": "markdown",
      "metadata": {
        "id": "n65OsLP6kmJ_"
      },
      "source": [
        "# Process and plot your source MIDI file"
      ]
    },
    {
      "cell_type": "code",
      "metadata": {
        "cellView": "form",
        "id": "EeQLtPKUMI-R"
      },
      "source": [
        "#@title Process your source MIDI file here\n",
        "#@markdown NOTE: For now everything is hard-coded to a single-track, MIDI channel 0, Piano-only MIDIs.\n",
        "\n",
        "full_path_to_source_MIDI_file = \"/content/tegridy-tools/tegridy-tools/seed2.mid\" #@param {type:\"string\"}\n",
        "\n",
        "desired_MIDI_channel_to_process = 0\n",
        "\n",
        "encode_velocities = False\n",
        "encode_MIDI_channels = False\n",
        "add_transposed_dataset_by_this_many_pitches = 0\n",
        "add_transposed_and_flipped_dataset = False\n",
        "chordify_input_MIDIs = False\n",
        "melody_conditioned_chords = False\n",
        "melody_pitch_baseline = 60\n",
        "time_denominator = 1\n",
        "transform_to_pitch = 0\n",
        "perfect_timings = True\n",
        "MuseNet_encoding = True\n",
        "chars_encoding_offset =  33\n",
        "\n",
        "print('TMIDI Optimus MIDI Processor')\n",
        "print('Starting up...')\n",
        "###########\n",
        "\n",
        "average_note_pitch = 0\n",
        "min_note = 127\n",
        "max_note = 0\n",
        "\n",
        "files_count = 0\n",
        "\n",
        "gfiles = 0\n",
        "\n",
        "chords_list_f = []\n",
        "melody_list_f = []\n",
        "\n",
        "chords_list = []\n",
        "chords_count = 0\n",
        "\n",
        "melody_chords = []\n",
        "melody_count = 0\n",
        "\n",
        "TXT_String = ''\n",
        "\n",
        "TXT = ''\n",
        "melody = []\n",
        "chords = []\n",
        "\n",
        "###########\n",
        "\n",
        "print('Loading MIDI file...')\n",
        "\n",
        "filez = [full_path_to_source_MIDI_file]\n",
        "\n",
        "\n",
        "for f in tqdm.auto.tqdm(filez):\n",
        "  try:\n",
        "    fn = os.path.basename(f)\n",
        "    fn1 = fn.split('.')[0]\n",
        "\n",
        "    files_count += 1\n",
        "    TXT, melody, chords, bass_melody, karaokez, INTS, aux1, aux2 = TMIDIX.Optimus_MIDI_TXT_Processor(f, chordify_TXT=chordify_input_MIDIs, output_MIDI_channels=encode_MIDI_channels, char_offset=chars_encoding_offset, dataset_MIDI_events_time_denominator=time_denominator, output_velocity=encode_velocities, MIDI_channel=desired_MIDI_channel_to_process, MIDI_patch=range(0, 127), melody_conditioned_encoding=melody_conditioned_chords, melody_pitch_baseline=melody_pitch_baseline, perfect_timings=perfect_timings, musenet_encoding=MuseNet_encoding, transform=transform_to_pitch)\n",
        "    TXT_String += TXT\n",
        "    melody_list_f += melody\n",
        "    chords_list_f += chords\n",
        "    gfiles += 1\n",
        "\n",
        "  except KeyboardInterrupt:\n",
        "    print('Saving current progress and quitting...')\n",
        "    break  \n",
        "  \n",
        "  except:\n",
        "    print('Bad MIDI:', f)\n",
        "    continue\n",
        "\n",
        "TXT_String += 'TOTAL_SONGS_IN_DATASET=' + str(gfiles)\n",
        "\n",
        "try:\n",
        "  print('Task complete :)')\n",
        "  print('==================================================')\n",
        "  if add_transposed_dataset_by_this_many_pitches != 0:\n",
        "    print('NOTE: Transposed dataset was added per users request.')\n",
        "    print('==================================================')\n",
        "  if add_transposed_and_flipped_dataset == True:\n",
        "    print('NOTE: Flipped dataset was added per users request.')  \n",
        "    print('==================================================')\n",
        "  print('Number of processed dataset MIDI files:', files_count)\n",
        "  print('Number of MIDI chords recorded:', len(chords_list_f))\n",
        "  print('First chord event:', chords_list_f[0], 'Last chord event:', chords_list_f[-1]) \n",
        "  print('Number of recorded melody events:', len(melody_list_f))\n",
        "  print('First melody event:', melody_list_f[0], 'Last Melody event:', melody_list_f[-1])\n",
        "  print('Total number of MIDI events recorded:', len(chords_list_f) + len(melody_list_f))\n",
        "  print('==================================================')\n",
        "\n",
        "except:\n",
        "  print('=' * 70)\n",
        "  print('IO Error!')\n",
        "  print('Please check that Dataset dir is not empty/check other IO code.')\n",
        "  print('=' * 70)\n",
        "  print('Shutting down...')\n",
        "  print('=' * 70)"
      ],
      "execution_count": null,
      "outputs": []
    },
    {
      "cell_type": "code",
      "metadata": {
        "cellView": "form",
        "id": "ixD2l7XDMQzp"
      },
      "source": [
        "#@title Create a 3D Scatter-plot of the processed MIDI file\n",
        "\n",
        "chords_flat = []\n",
        "st = []\n",
        "du = []\n",
        "pt = []\n",
        "\n",
        "for c in chords_list_f:\n",
        "  st.append(c[1])\n",
        "  du.append(c[2])\n",
        "  pt.append(c[4])\n",
        "\n",
        "# Creating dataset\n",
        "x1 = np.array(st)\n",
        "y1 = np.array(du)\n",
        "z1 = np.array(pt)\n",
        "\n",
        "#z = np.random.randint(100, size =(50))\n",
        "#x = np.random.randint(80, size =(50))\n",
        "#y = np.random.randint(60, size =(50))\n",
        " \n",
        "# Creating figure\n",
        "fig = plt.figure(figsize = (15,12))\n",
        "ax = plt.axes(projection =\"3d\")\n",
        " \n",
        "# Creating plot\n",
        "ax.scatter3D(x1, y1, z1, s = 10, c = z1)\n",
        "#ax.set_position()\n",
        "ax.set_xlabel('Start Times')\n",
        "ax.set_ylabel('Durations')\n",
        "ax.set_zlabel('Pitches')\n",
        "plt.title(str(fn))\n",
        "ax.view_init(60, 30)\n",
        "# show plot\n",
        "plt.show()"
      ],
      "execution_count": null,
      "outputs": []
    },
    {
      "cell_type": "markdown",
      "metadata": {
        "id": "uiXwRJJqkxjw"
      },
      "source": [
        "# Generate and download"
      ]
    },
    {
      "cell_type": "code",
      "metadata": {
        "cellView": "form",
        "id": "WYhHFXRRMkP1"
      },
      "source": [
        "#@title Generate beats and download the results\n",
        "\n",
        "#@markdown NOTE: Beats patterns are generated by a random factor so the results will be non-deterministic\n",
        "min_beat_MIDI_patch_number = 44 #@param {type:\"slider\", min:0, max:100, step:1}\n",
        "avg_beat_MIDI_patch_number = 41 #@param {type:\"slider\", min:0, max:100, step:1}\n",
        "max_beat_MIDI_patch_number = 36 #@param {type:\"slider\", min:0, max:100, step:1}\n",
        "beats_randomness_factor = 4 #@param {type:\"slider\", min:4, max:16, step:4}\n",
        "\n",
        "print('=' * 70)\n",
        "print('MIDI Piano Beats Generator')\n",
        "print('Starting up...')\n",
        "print('=' * 70)\n",
        "\n",
        "print('Calculating beats...')\n",
        "all_st_deltas = []\n",
        "delta_sum = 0\n",
        "min_beat = 510\n",
        "avg_beat = 0\n",
        "max_beat = 0\n",
        "\n",
        "pe = copy.deepcopy(chords_list_f[0])\n",
        "\n",
        "for c in chords_list_f[1:]:\n",
        "  if abs(c[1] - pe[1]) > 0: min_beat = int(round(min(min_beat, abs(c[1] - pe[1])), -1))\n",
        "  if abs(c[1] - pe[1]) <= 510: max_beat = int(round(max(max_beat, abs(c[1] - pe[1])), -2))\n",
        "  all_st_deltas.append(abs(c[1] - pe[1]))\n",
        "  delta_sum += abs(c[1] - pe[1])\n",
        "  pe = copy.deepcopy(c)\n",
        "\n",
        "avg_beat = int(round(delta_sum / len(all_st_deltas), -2))\n",
        "print('=' * 70)\n",
        "\n",
        "print('Min beat', min_beat, 'ms')\n",
        "print('Avg beat', avg_beat, 'ms')\n",
        "print('Max beat', max_beat, 'ms')\n",
        "print('=' * 70)\n",
        "\n",
        "print('Generating beats patterns...')\n",
        "beats = []\n",
        "song_f = []\n",
        "mib = 0\n",
        "avb = 0\n",
        "mab = 0\n",
        "for c in chords_list_f:\n",
        "  if c[1] % min_beat == 0 and secrets.randbelow(beats_randomness_factor) == 0: \n",
        "    beats.append(['note', c[1], min_beat, 9, min_beat_MIDI_patch_number, max(c[5], 90)])\n",
        "    mib += min_beat\n",
        "  if c[1] % avg_beat != 0 and secrets.randbelow(beats_randomness_factor) == 0: \n",
        "    beats.append(['note', c[1], avg_beat, 9, avg_beat_MIDI_patch_number, max(c[5], 100)])\n",
        "    avb += avg_beat\n",
        "  if c[1] % max_beat != 0 and secrets.randbelow(beats_randomness_factor) == 0: \n",
        "    beats.append(['note', c[1], max_beat, 9, max_beat_MIDI_patch_number, max(c[5], 110)])\n",
        "    mab += max_beat\n",
        "print('=' * 70)\n",
        "\n",
        "print('Finalizing the output...')\n",
        "beats.sort()  \n",
        "song_f.extend(chords_list_f)\n",
        "song_f.extend(beats)\n",
        "song_f.sort()\n",
        "print('=' * 70)\n",
        "\n",
        "TMIDIX.Tegridy_SONG_to_MIDI_Converter(song_f, output_file_name='/content/' + fn1 + '_with_beats' , number_of_ticks_per_quarter=500, output_signature='MIDI Piano Beats Generator', track_name='Song:' + fn1)\n",
        "print('=' * 70)\n",
        "\n",
        "print('Downloading resulting composition now...')\n",
        "from google.colab import files\n",
        "files.download('/content/' + fn1 + '_with_beats.mid')\n",
        "print('=' * 70)"
      ],
      "execution_count": null,
      "outputs": []
    },
    {
      "cell_type": "markdown",
      "metadata": {
        "id": "a3qKWUyUk3QO"
      },
      "source": [
        "# Congrats! You did it! :)"
      ]
    }
  ]
}