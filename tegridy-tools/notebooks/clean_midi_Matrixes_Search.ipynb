{
  "cells": [
    {
      "cell_type": "markdown",
      "metadata": {
        "gradient": {
          "editing": false,
          "id": "ac5a4cf0-d9d2-47b5-9633-b53f8d99a4d2",
          "kernelId": ""
        },
        "id": "SiTIpPjArIyr"
      },
      "source": [
        "# clean_midi Matrixes Search (ver. 2.0)\n",
        "\n",
        "***\n",
        "\n",
        "Powered by tegridy-tools: https://github.com/asigalov61/tegridy-tools\n",
        "\n",
        "***\n",
        "\n",
        "#### Project Los Angeles\n",
        "\n",
        "#### Tegridy Code 2022\n",
        "\n",
        "***"
      ]
    },
    {
      "cell_type": "markdown",
      "metadata": {
        "gradient": {
          "editing": false,
          "id": "fa0a611c-1803-42ae-bdf6-a49b5a4e781b",
          "kernelId": ""
        },
        "id": "gOd93yV0sGd2"
      },
      "source": [
        "# (Setup Environment)"
      ]
    },
    {
      "cell_type": "code",
      "execution_count": null,
      "metadata": {
        "gradient": {
          "editing": false,
          "id": "a1a45a91-d909-4fd4-b67a-5e16b971d179",
          "kernelId": ""
        },
        "id": "fX12Yquyuihc",
        "cellView": "form"
      },
      "outputs": [],
      "source": [
        "#@title Install all dependencies (run only once per session)\n",
        "\n",
        "!git clone https://github.com/asigalov61/tegridy-tools\n",
        "!pip install sklearn\n",
        "!pip install tqdm\n",
        "\n",
        "!unzip /content/tegridy-tools/tegridy-data/clean_midi_matrixes.zip"
      ]
    },
    {
      "cell_type": "code",
      "execution_count": null,
      "metadata": {
        "gradient": {
          "editing": false,
          "id": "b8207b76-9514-4c07-95db-95a4742e52c5",
          "kernelId": ""
        },
        "id": "z7n9vnKmug1J",
        "cellView": "form"
      },
      "outputs": [],
      "source": [
        "#@title Import all needed modules\n",
        "\n",
        "print('Loading needed modules. Please wait...')\n",
        "import os\n",
        "from tqdm import tqdm\n",
        "\n",
        "print('Loading TMIDIX module...')\n",
        "os.chdir('/content/tegridy-tools/tegridy-tools')\n",
        "import TMIDIX\n",
        "\n",
        "from sklearn.metrics import pairwise_distances\n",
        "\n",
        "os.chdir('/content/')\n",
        "print('Done!')"
      ]
    },
    {
      "cell_type": "code",
      "source": [
        "#@title Load clean_midi matrixes pickle file\n",
        "data = TMIDIX.Tegridy_Any_Pickle_File_Reader('/content/clean_midi_matrixes')"
      ],
      "metadata": {
        "id": "ML1CecXtjiGE",
        "cellView": "form"
      },
      "execution_count": null,
      "outputs": []
    },
    {
      "cell_type": "code",
      "source": [
        "#@title Search\n",
        "full_path_to_MIDI_file = \"/content/tegridy-tools/tegridy-tools/seed2.mid\" #@param {type:\"string\"}\n",
        "print('=' * 70)\n",
        "print('Loading MIDI file...')\n",
        "\n",
        "score = TMIDIX.midi2ms_score(open(full_path_to_MIDI_file, 'rb').read())\n",
        "\n",
        "events_matrix = []\n",
        "\n",
        "itrack = 1\n",
        "\n",
        "while itrack < len(score):\n",
        "    for event in score[itrack]:         \n",
        "      events_matrix.append(event)\n",
        "    itrack += 1\n",
        "\n",
        "# Sorting...\n",
        "events_matrix.sort(key=lambda x: x[1])\n",
        "\n",
        "# recalculating timings\n",
        "for e in events_matrix:\n",
        "    e[1] = int(e[1] / 10)\n",
        "    if e[0] == 'note':\n",
        "      e[2] = int(e[2] / 20)\n",
        "\n",
        "# final processing...\n",
        "\n",
        "melody_chords = []\n",
        "\n",
        "patches = [0, 0, 0, 0, 0, 0, 0, 0, 0, 0, 0, 0, 0, 0, 0, 0]\n",
        "\n",
        "pe = events_matrix[0]\n",
        "for e in events_matrix:\n",
        "\n",
        "  if e[0] == 'note':\n",
        "    # ['note', start_time, duration, channel, note, velocity]\n",
        "    time = max(0, min(255, e[1]-pe[1]))\n",
        "    duration = max(1, min(255, e[2]))\n",
        "    channel = max(0, min(15, e[3]))\n",
        "\n",
        "    if e[3] != 9:\n",
        "      instrument = max(0, min(127, patches[e[3]]))\n",
        "    else:\n",
        "      instrument = max(128, min(255, patches[e[3]]+128))\n",
        "\n",
        "    if e[3] != 9:\n",
        "\n",
        "      pitch = max(1, min(127, e[4]))\n",
        "    else:\n",
        "      pitch = max(129, min(255, e[4]+128))\n",
        "\n",
        "    if e[3] != 9:\n",
        "      velocity = max(1, min(127, e[5]))\n",
        "    else:\n",
        "      velocity = max(129, min(255, e[5]+128))\n",
        "\n",
        "    melody_chords.append([time, duration, channel, instrument, pitch, velocity])\n",
        "\n",
        "  if e[0] == 'patch_change':\n",
        "    # ['patch_change', dtime, channel, patch]\n",
        "    time = max(0, min(127, e[1]-pe[1]))\n",
        "    channel = max(0, min(15, e[2]))\n",
        "    patch = max(0, min(127, e[3]))\n",
        "\n",
        "    patches[channel] = patch\n",
        "\n",
        "  pe = e # Previous event\n",
        "\n",
        "MATRIX = [[0]*256 for i in range(38)]\n",
        "\n",
        "for m in melody_chords:\n",
        "\n",
        "  MATRIX[0][m[0]] += 1\n",
        "  MATRIX[1][m[1]] += 1\n",
        "  MATRIX[2][m[2]] += 1 \n",
        "  MATRIX[3][m[3]] += 1\n",
        "  MATRIX[4][m[4]] += 1\n",
        "  MATRIX[5][m[5]] += 1\n",
        "  MATRIX[m[2]+6][m[3]] += 1\n",
        "  MATRIX[m[2]+22][m[4]] += 1\n",
        "\n",
        "print('Dones!')\n",
        "print('=' * 70)\n",
        "\n",
        "print('Searching...Please wait...')\n",
        "\n",
        "scores = []\n",
        "\n",
        "for D in tqdm(data):\n",
        "    dist = pairwise_distances(MATRIX, \n",
        "                             D[2],\n",
        "                              )[0][0]\n",
        "                              \n",
        "    scores.append(dist)\n",
        "    if dist == 0:\n",
        "      break\n",
        "\n",
        "print('Done!')\n",
        "print('=' * 70)\n",
        "    \n",
        "print('Euclidian distance ==', min(scores))\n",
        "print('=' * 70)\n",
        "print('Artist:', data[scores.index(min(scores))][0])\n",
        "print('Composition Name:', data[scores.index(min(scores))][1])\n",
        "print('=' * 70)"
      ],
      "metadata": {
        "cellView": "form",
        "id": "pNQG6Qgfrlfi"
      },
      "execution_count": null,
      "outputs": []
    },
    {
      "cell_type": "markdown",
      "metadata": {
        "id": "YzCMd94Tu_gz"
      },
      "source": [
        "# Congrats! You did it! :)"
      ]
    }
  ],
  "metadata": {
    "colab": {
      "collapsed_sections": [],
      "private_outputs": true,
      "provenance": [],
      "machine_shape": "hm"
    },
    "kernelspec": {
      "display_name": "Python 3 (ipykernel)",
      "language": "python",
      "name": "python3"
    },
    "language_info": {
      "codemirror_mode": {
        "name": "ipython",
        "version": 3
      },
      "file_extension": ".py",
      "mimetype": "text/x-python",
      "name": "python",
      "nbconvert_exporter": "python",
      "pygments_lexer": "ipython3",
      "version": "3.9.7"
    },
    "gpuClass": "standard"
  },
  "nbformat": 4,
  "nbformat_minor": 0
}