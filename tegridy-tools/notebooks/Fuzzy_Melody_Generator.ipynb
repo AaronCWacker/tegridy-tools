{
  "nbformat": 4,
  "nbformat_minor": 0,
  "metadata": {
    "colab": {
      "name": "Fuzzy_Melody_Generator.ipynb",
      "private_outputs": true,
      "provenance": [],
      "collapsed_sections": [],
      "toc_visible": true,
      "machine_shape": "hm"
    },
    "kernelspec": {
      "name": "python3",
      "display_name": "Python 3"
    }
  },
  "cells": [
    {
      "cell_type": "markdown",
      "metadata": {
        "id": "EBSe4NI8ojlq"
      },
      "source": [
        "# Fuzzy Melody Generator (ver 1.0)\n",
        "\n",
        "***\n",
        "\n",
        "### Credit for FuzzyWuzzy string matching package goes out @seatgeek: https://github.com/seatgeek/fuzzywuzzy\n",
        "\n",
        "### Powered by tegridy-tools TMIDI 2.0 Optimus Processors\n",
        "\n",
        "***\n",
        "\n",
        "#### Project Los Angeles\n",
        "#### Tegridy Code 2021\n",
        "\n",
        "***"
      ]
    },
    {
      "cell_type": "markdown",
      "metadata": {
        "id": "kL_ZOMyDo_uS"
      },
      "source": [
        "# Setup environment"
      ]
    },
    {
      "cell_type": "code",
      "metadata": {
        "id": "EJFb1Z36RONl",
        "cellView": "form"
      },
      "source": [
        "#@title Install dependencies\n",
        "!git clone https://github.com/asigalov61/tegridy-tools\n",
        "!pip install unidecode\n",
        "!pip install tqdm\n",
        "\n",
        "!pip install fuzzywuzzy[speedup]"
      ],
      "execution_count": null,
      "outputs": []
    },
    {
      "cell_type": "code",
      "metadata": {
        "id": "dLmnUQ8cRX7n",
        "cellView": "form"
      },
      "source": [
        "#@title Load needed modules\n",
        "print('Loading needed modules. Please wait...')\n",
        "\n",
        "import sys\n",
        "import os\n",
        "import json\n",
        "import secrets\n",
        "\n",
        "os.chdir('/content/tegridy-tools/tegridy-tools/')\n",
        "import TMIDI\n",
        "os.chdir('/content/')\n",
        "\n",
        "from fuzzywuzzy import fuzz\n",
        "from fuzzywuzzy import process\n",
        "import tqdm.auto\n",
        "from tqdm import auto\n",
        "import copy\n",
        "\n",
        "from google.colab import output, drive\n",
        "\n",
        "print('Creating Dataset dir...')\n",
        "if not os.path.exists('/content/Dataset'):\n",
        "    os.makedirs('/content/Dataset')\n",
        "\n",
        "os.chdir('/content/')\n",
        "print('Loading complete. Enjoy! :)')"
      ],
      "execution_count": null,
      "outputs": []
    },
    {
      "cell_type": "markdown",
      "metadata": {
        "id": "p5RT84mRlkHz"
      },
      "source": [
        "# Download a sample dataset"
      ]
    },
    {
      "cell_type": "code",
      "metadata": {
        "cellView": "form",
        "id": "plmizH08jJLu"
      },
      "source": [
        "#@title Download Melody ABC Tunes Dataset\n",
        "%cd /content/Dataset\n",
        "\n",
        "# Melody-ABC-Tunes-Dataset-CC-BY-NC-SA\n",
        "!wget --no-check-certificate -O Melody-ABC-Tunes-Dataset-CC-BY-NC-SA.zip \"https://onedrive.live.com/download?cid=8A0D502FC99C608F&resid=8A0D502FC99C608F%2118479&authkey=AI87E6Wlb6Qfp3w\"\n",
        "!unzip -j Melody-ABC-Tunes-Dataset-CC-BY-NC-SA.zip\n",
        "!rm Melody-ABC-Tunes-Dataset-CC-BY-NC-SA.zip\n",
        "\n",
        "%cd /content/"
      ],
      "execution_count": null,
      "outputs": []
    },
    {
      "cell_type": "markdown",
      "metadata": {
        "id": "TL4yMfc_pTpZ"
      },
      "source": [
        "# Process the MIDI dataset\n",
        "\n",
        "## NOTE: If you are not sure what settings to select, please use original defaults"
      ]
    },
    {
      "cell_type": "code",
      "metadata": {
        "id": "XJCLH_2gDKZb",
        "cellView": "form"
      },
      "source": [
        "#@title Process MIDIs to special MIDI dataset with Tegridy MIDI Processor\n",
        "#@markdown NOTES:\n",
        "\n",
        "#@markdown 1) Dataset MIDI file names are used as song names. Feel free to change it to anything you like.\n",
        "\n",
        "#@markdown 2) Best results are achieved with the single-track, single-channel, single-instrument MIDI 0 files with plain English names (avoid special or sys/foreign chars)\n",
        "\n",
        "#@markdown 3) MIDI Channel = -1 means all MIDI channels. MIDI Channel = 16 means all channels will be processed. Otherwise, only single indicated MIDI channel will be processed.\n",
        "\n",
        "file_name_to_output_dataset_to = \"/content/Fuzzy-Melody-Generator-Dataset\" #@param {type:\"string\"}\n",
        "desired_MIDI_channel_to_process = 0 #@param {type:\"slider\", min:-1, max:16, step:1}\n",
        "encode_MIDI_channels = False #@param {type:\"boolean\"}\n",
        "encode_velocities = False #@param {type:\"boolean\"}\n",
        "chordify_input_MIDIs = False #@param {type:\"boolean\"}\n",
        "time_denominator = 1 #@param {type:\"slider\", min:1, max:20, step:1}\n",
        "chars_encoding_offset = 30000 #@param {type:\"number\"}\n",
        "\n",
        "print('TMIDI Processor')\n",
        "print('Starting up...')\n",
        "\n",
        "###########\n",
        "\n",
        "average_note_pitch = 0\n",
        "min_note = 127\n",
        "max_note = 0\n",
        "\n",
        "files_count = 0\n",
        "\n",
        "ev = 0\n",
        "\n",
        "chords_list_f = []\n",
        "melody_list_f = []\n",
        "\n",
        "chords_list = []\n",
        "chords_count = 0\n",
        "\n",
        "melody_chords = []\n",
        "melody_count = 0\n",
        "\n",
        "TXT_String = 'DATASET=Optimus-Virtuoso-Music-Dataset' + chr(10)\n",
        "\n",
        "TXT = ''\n",
        "melody = []\n",
        "chords = []\n",
        "bf = 0\n",
        "###########\n",
        "\n",
        "print('Loading MIDI files...')\n",
        "print('This may take a while on a large dataset in particular.')\n",
        "\n",
        "dataset_addr = \"/content/Dataset/\"\n",
        "os.chdir(dataset_addr)\n",
        "filez = os.listdir(dataset_addr)\n",
        "\n",
        "print('Processing MIDI files. Please wait...')\n",
        "for f in tqdm.auto.tqdm(filez):\n",
        "  try:\n",
        "    fn = os.path.basename(f)\n",
        "    fn1 = fn.split('.')[0]\n",
        "    #notes = song_notes_list[song_notes_list.index(fn1)+1]\n",
        "\n",
        "\n",
        "    files_count += 1\n",
        "    TXT, melody, chords = TMIDI.Optimus_MIDI_TXT_Processor(f, \n",
        "                                                           line_by_line_output=False, \n",
        "                                                           chordify_TXT=chordify_input_MIDIs, \n",
        "                                                           output_MIDI_channels=encode_MIDI_channels, \n",
        "                                                           char_offset=chars_encoding_offset, \n",
        "                                                           dataset_MIDI_events_time_denominator=time_denominator, \n",
        "                                                           output_velocity=encode_velocities, \n",
        "                                                           MIDI_channel=desired_MIDI_channel_to_process,\n",
        "                                                           MIDI_patch=range(0,127))\n",
        "    melody_list_f += melody\n",
        "    chords_list_f += chords\n",
        "    \n",
        "    #TXT_String += 'INTRO=' + notes + '\\n'\n",
        "    TXT_String += TXT\n",
        "  \n",
        "  except KeyboardInterrupt:\n",
        "    print('Exiting...Saving progress...')\n",
        "    break\n",
        "\n",
        "  except:\n",
        "    bf += 1\n",
        "    print('Bad MIDI:', f)\n",
        "    print('Count:', bf)\n",
        "    \n",
        "    continue\n",
        "\n",
        "print('Task complete :)')\n",
        "print('==================================================')\n",
        "print('Number of processed dataset MIDI files:', files_count)\n",
        "print('Number of MIDI chords recorded:', len(chords_list_f))\n",
        "print('First chord event:', chords_list_f[0], 'Last chord event:', chords_list_f[-1]) \n",
        "print('Number of recorded melody events:', len(melody_list_f))\n",
        "print('First melody event:', melody_list_f[0], 'Last Melody event:', melody_list_f[-1])\n",
        "print('Total number of MIDI events recorded:', len(chords_list_f) + len(melody_list_f))\n",
        "\n",
        "# Writing dataset to TXT file\n",
        "with open(file_name_to_output_dataset_to + '.txt', 'wb') as f:\n",
        "  f.write(TXT_String.encode('utf-8', 'replace'))\n",
        "  f.close\n",
        "\n",
        "# Dataset\n",
        "MusicDataset = [chords_list_f, melody_list_f]\n",
        "\n",
        "# Writing dataset to pickle file\n",
        "TMIDI.Tegridy_Pickle_File_Writer(MusicDataset, file_name_to_output_dataset_to)"
      ],
      "execution_count": null,
      "outputs": []
    },
    {
      "cell_type": "markdown",
      "metadata": {
        "id": "c49i6KV5ndHL"
      },
      "source": [
        "# Load/Re-load"
      ]
    },
    {
      "cell_type": "code",
      "metadata": {
        "id": "J9xp0uwKkyvW",
        "cellView": "form"
      },
      "source": [
        "#@title Load/Re-load processed dataset\n",
        "full_path_to_processed_dataset = \"/content/Fuzzy-Melody-Generator-Dataset\" #@param {type:\"string\"}\n",
        "\n",
        "\n",
        "# Writing dataset to memory\n",
        "chords_list_f, melody_list_f = TMIDI.Tegridy_Pickle_File_Loader(full_path_to_processed_dataset)\n"
      ],
      "execution_count": null,
      "outputs": []
    },
    {
      "cell_type": "markdown",
      "metadata": {
        "id": "NyAQvNZanjOJ"
      },
      "source": [
        "# Prepare melodies for generation"
      ]
    },
    {
      "cell_type": "code",
      "metadata": {
        "id": "utgtu0JB7Lt1",
        "cellView": "form"
      },
      "source": [
        "#@title Process melody list to melody slices\n",
        "desired_melody_baseline_pitch = 60 #@param {type:\"slider\", min:1, max:127, step:1}\n",
        "minimum_length_of_considered_slices = 8 #@param {type:\"slider\", min:4, max:32, step:4}\n",
        "\n",
        "\n",
        "print('Creating pitches list...')\n",
        "pitches = []\n",
        "\n",
        "for m in auto.tqdm(melody_list_f):\n",
        "  pitches.append(m[4])\n",
        "\n",
        "output = []\n",
        "\n",
        "pat = desired_melody_baseline_pitch # start and end pitch\n",
        "min_length = minimum_length_of_considered_slices # min number of notes in a slice\n",
        "\n",
        "out = []\n",
        "\n",
        "print('Processing melody list to slices...')\n",
        "\n",
        "for i in auto.tqdm(range(pitches.index(pat), len(pitches)-1)):\n",
        "\n",
        "  if pitches[i+1] != pat:\n",
        "    out.append(melody_list_f[i])\n",
        "  else:\n",
        "    out.append(melody_list_f[i+1])\n",
        "    if len(out) >= min_length:\n",
        "      out.sort(reverse=False, key=lambda x: x[1])\n",
        "      output.append(out)\n",
        "    out = []\n",
        "\n",
        "print('Done! Enjoy! :)')"
      ],
      "execution_count": null,
      "outputs": []
    },
    {
      "cell_type": "code",
      "metadata": {
        "cellView": "form",
        "id": "73lOvW5CLCXh"
      },
      "source": [
        "#@title Create slices ratings list\n",
        "\n",
        "print('Creating slices ratings list...')\n",
        "print('Please wait as it may take a while...')\n",
        "\n",
        "ratings = []\n",
        "\n",
        "src = output[secrets.randbelow(len(output))]\n",
        "for o in auto.tqdm(output):\n",
        "  ratings.append(fuzz.ratio(src, o))\n",
        "\n",
        "print('Finishing up...')\n",
        "print('Max slice rating:', max(ratings))\n",
        "print('Min slice rating:', min(ratings))\n",
        "\n",
        "print('Done! Enjoy! :)') "
      ],
      "execution_count": null,
      "outputs": []
    },
    {
      "cell_type": "code",
      "metadata": {
        "cellView": "form",
        "id": "ZoHRda-eXKNK"
      },
      "source": [
        "#@title Generate melody\n",
        "number_of_melody_slices = 10 #@param {type:\"slider\", min:5, max:100, step:5}\n",
        "minimum_slice_rating_to_consider = 90 #@param {type:\"slider\", min:1, max:100, step:1}\n",
        "\n",
        "print('Generating melody...')\n",
        "print('Searching for right melody slices...')\n",
        "\n",
        "number_of_slices = number_of_melody_slices\n",
        "min_rating = minimum_slice_rating_to_consider\n",
        "\n",
        "idx = 0\n",
        "\n",
        "output_song = []\n",
        "output_song.extend(src)\n",
        "for i in auto.tqdm(range(number_of_slices)):\n",
        "  while ratings[idx] < min_rating:\n",
        "\n",
        "      idx = secrets.randbelow(len(output))\n",
        "\n",
        "  sli = output[idx][:-1]\n",
        "  output_song.extend(sli)\n",
        "  idx = 0\n",
        "\n",
        "print('Assembling chosen slices into final melody...')\n",
        "\n",
        "song = []\n",
        "\n",
        "previous_event = output_song[0]\n",
        "previous_event[1] = 0\n",
        "for o in auto.tqdm(output_song[1:]):\n",
        "  b = copy.deepcopy(o)\n",
        "\n",
        "  b[1] = previous_event[1] + previous_event[2]\n",
        " \n",
        "  song.append(b)\n",
        "\n",
        "  previous_event = b\n",
        "\n",
        "print('Done! Enjoy! :)')"
      ],
      "execution_count": null,
      "outputs": []
    },
    {
      "cell_type": "markdown",
      "metadata": {
        "id": "S9i_kfkfp1Qr"
      },
      "source": [
        "# Convert generated music composition to MIDI file and download/listen to the output :)"
      ]
    },
    {
      "cell_type": "code",
      "metadata": {
        "id": "4anGLsMEFBg3",
        "cellView": "form"
      },
      "source": [
        "#@title Convert to MIDI from TXT (w/Tegridy MIDI-TXT Processor)\n",
        "\n",
        "#@markdown Standard MIDI timings are 400/120(80)\n",
        "\n",
        "'''For debug:'''\n",
        "\n",
        "#fname = '/content/Optimus-VIRTUOSO-Composition-generated-on-2021-02-25_00_45_41_715972'\n",
        "#with open(fname + '.txt', 'r') as f:\n",
        "#  completion = f.read()\n",
        "fname = '/content/Markovify-Piano-Music-Composition'\n",
        "#completion = Output_TXT_String\n",
        "\n",
        "#completion = TXT_String[:1500]\n",
        "completion = song\n",
        "song_name = 'TEST'\n",
        "\n",
        "number_of_ticks_per_quarter = 420 #@param {type:\"slider\", min:10, max:500, step:10}\n",
        "dataset_time_denominator = 1 #@param {type:\"slider\", min:1, max:20, step:1}\n",
        "encoding_has_MIDI_channels = False #@param {type:\"boolean\"}\n",
        "encoding_has_velocities = False #@param {type:\"boolean\"}\n",
        "simulate_velocity = True #@param {type:\"boolean\"}\n",
        "chars_encoding_offset_used_for_dataset = 30000 #@param {type:\"number\"}\n",
        "\n",
        "print('Converting TXT to MIDI. Please wait...')\n",
        "print('Converting TXT to Song...')\n",
        "'''output_list, song_name = TMIDI.Tegridy_Optimus_TXT_to_Notes_Converter(completion, \n",
        "                                                                has_MIDI_channels=encoding_has_MIDI_channels, \n",
        "                                                                simulate_velocity=simulate_velocity,\n",
        "                                                                char_encoding_offset=chars_encoding_offset_used_for_dataset,\n",
        "                                                                save_only_first_composition=True,\n",
        "                                                                dataset_MIDI_events_time_denominator=dataset_time_denominator,\n",
        "                                                                has_velocities=encoding_has_velocities,\n",
        "                                                                line_by_line_dataset=False)'''\n",
        "\n",
        "print('Converting Song to MIDI...')\n",
        "\n",
        "output_signature = 'Markovify Piano'\n",
        "\n",
        "detailed_stats = TMIDI.Tegridy_SONG_to_MIDI_Converter(song,\n",
        "                                                      output_signature = output_signature,  \n",
        "                                                      output_file_name = fname, \n",
        "                                                      track_name=song_name, \n",
        "                                                      number_of_ticks_per_quarter=number_of_ticks_per_quarter,\n",
        "                                                      )\n",
        "\n",
        "print('Done!')\n",
        "\n",
        "print('Downloading your composition now...')\n",
        "from google.colab import files\n",
        "files.download(fname + '.mid')\n",
        "\n",
        "print('Detailed MIDI stats:')\n",
        "detailed_stats"
      ],
      "execution_count": null,
      "outputs": []
    },
    {
      "cell_type": "markdown",
      "metadata": {
        "id": "08nF_w0HfS30"
      },
      "source": [
        "# Congrats! You did it! :)"
      ]
    }
  ]
}