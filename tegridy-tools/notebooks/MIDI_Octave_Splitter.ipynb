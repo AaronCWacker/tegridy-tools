{
  "nbformat": 4,
  "nbformat_minor": 0,
  "metadata": {
    "colab": {
      "name": "MIDI_Octave_Splitter.ipynb",
      "private_outputs": true,
      "provenance": [],
      "collapsed_sections": []
    },
    "kernelspec": {
      "name": "python3",
      "display_name": "Python 3"
    },
    "language_info": {
      "name": "python"
    }
  },
  "cells": [
    {
      "cell_type": "markdown",
      "metadata": {
        "id": "d5pKoNB3iryl"
      },
      "source": [
        "# MIDI Octaves Splitter (ver. 1.0)\n",
        "\n",
        "## Simple, yet powerful MIDI octaves splitter tool\n",
        "\n",
        "***\n",
        "\n",
        "### Powered by TMIDI 2.2 Optimus Processors\n",
        "\n",
        "***\n",
        "\n",
        "#### Project Los Angeles\n",
        "\n",
        "#### Tegridy Code 2021\n",
        "\n",
        "***"
      ]
    },
    {
      "cell_type": "markdown",
      "metadata": {
        "id": "DRwPzKS6jQig"
      },
      "source": [
        "# Setup environment"
      ]
    },
    {
      "cell_type": "code",
      "metadata": {
        "id": "kjCVG96FqP_v",
        "cellView": "form"
      },
      "source": [
        "#@title Install tegridy-tools\n",
        "!git clone https://github.com/asigalov61/tegridy-tools"
      ],
      "execution_count": null,
      "outputs": []
    },
    {
      "cell_type": "code",
      "metadata": {
        "id": "gspS8w4qqcOS",
        "cellView": "form"
      },
      "source": [
        "#@title Import all needed modules\n",
        "\n",
        "print('Loading needed modules. Please wait...')\n",
        "import os\n",
        "import copy\n",
        "\n",
        "if not os.path.exists('/content/Dataset'):\n",
        "    os.makedirs('/content/Dataset')\n",
        "\n",
        "if not os.path.exists('/content/Output'):\n",
        "    os.makedirs('/content/Output')\n",
        "\n",
        "os.chdir('/content/tegridy-tools/tegridy-tools')\n",
        "import TMIDI\n",
        "\n",
        "import tqdm\n",
        "from tqdm import auto\n",
        "\n",
        "os.chdir('/content/')\n",
        "print('Loading complete. Enjoy! :)')"
      ],
      "execution_count": null,
      "outputs": []
    },
    {
      "cell_type": "markdown",
      "metadata": {
        "id": "SZrK4Xb0jUr7"
      },
      "source": [
        "# Split MIDIs"
      ]
    },
    {
      "cell_type": "code",
      "metadata": {
        "id": "MsFV3Uwnqeao",
        "cellView": "form"
      },
      "source": [
        "#@title Split MIDIs into octaves\n",
        "#@markdown NOTES:\n",
        "\n",
        "#@markdown 1) Dataset MIDI file names are used as song names. Feel free to change it to anything you like.\n",
        "\n",
        "#@markdown 2) Best results are achieved with the single-track, single-channel, single-instrument MIDI 0 files with plain English names (avoid special or sys/foreign chars)\n",
        "\n",
        "#@markdown 3) MIDI Channel = -1 means all MIDI channels except drums. MIDI Channel = 16 means all channels will be processed. Otherwise, only single indicated MIDI channel will be processed.\n",
        "\n",
        "desired_MIDI_channel_to_process = 0 #@param {type:\"slider\", min:-1, max:16, step:1}\n",
        "encode_velocities = True \n",
        "encode_MIDI_channels = True\n",
        "chordify_input_MIDIs = False\n",
        "melody_conditioned_chords = True\n",
        "melody_pitch_baseline = 60\n",
        "time_denominator = 1\n",
        "chars_encoding_offset = 33\n",
        "\n",
        "print('TMIDI Optimus MIDI Processor')\n",
        "print('Starting up...')\n",
        "###########\n",
        "\n",
        "average_note_pitch = 0\n",
        "min_note = 127\n",
        "max_note = 0\n",
        "\n",
        "files_count = 0\n",
        "\n",
        "TXT = ''\n",
        "melody = []\n",
        "chords = []\n",
        "\n",
        "###########\n",
        "\n",
        "print('Loading MIDI files...')\n",
        "print('This may take a while on a large dataset in particular.')\n",
        "\n",
        "dataset_addr = \"/content/Dataset/\"\n",
        "os.chdir(dataset_addr)\n",
        "filez = os.listdir(dataset_addr)\n",
        "\n",
        "print('Processing MIDI files. Please wait...')\n",
        "for f in tqdm.auto.tqdm(filez):\n",
        "  try:\n",
        "    fn = os.path.basename(f)\n",
        "    fn1 = fn.split('.')[0]\n",
        "\n",
        "    files_count += 1\n",
        "    TXT, melody, chords = TMIDI.Optimus_MIDI_TXT_Processor(f, chordify_TXT=chordify_input_MIDIs, output_MIDI_channels=encode_MIDI_channels, char_offset=chars_encoding_offset, dataset_MIDI_events_time_denominator=time_denominator, output_velocity=encode_velocities, MIDI_channel=desired_MIDI_channel_to_process, MIDI_patch=range(0, 127), melody_conditioned_encoding=melody_conditioned_chords, melody_pitch_baseline=melody_pitch_baseline, number_of_notes_to_sample=-1)\n",
        "    \n",
        "    output = []\n",
        "\n",
        "    for c in chords:\n",
        "      for n in c:\n",
        "        octave = int(n[4] / 12) - 1\n",
        "        nn = copy.deepcopy(n)\n",
        "        nn[3] = octave\n",
        "\n",
        "        output.append(nn)\n",
        "\n",
        "    number_of_ticks_per_quarter = 400 #@param {type:\"slider\", min:10, max:500, step:10}\n",
        "\n",
        "    song_name = 'Song: ' + fn1\n",
        "    fname = '/content/Output/' + fn1\n",
        "\n",
        "    output_signature = 'MIDI Octaves Splitter'\n",
        "\n",
        "    detailed_stats = TMIDI.Tegridy_SONG_to_MIDI_Converter(output,\n",
        "                                                          output_signature = output_signature,  \n",
        "                                                          output_file_name = fname, \n",
        "                                                          track_name=song_name, \n",
        "                                                          number_of_ticks_per_quarter=number_of_ticks_per_quarter,\n",
        "                                                          list_of_MIDI_patches=[0, 0, 0, 0, 0, 0, 0, 0, 0, 0, 0, 0, 0, 0, 0, 0,])\n",
        "  except KeyboardInterrupt:\n",
        "    print('Saving current progress and quitting...')\n",
        "    break  \n",
        "  \n",
        "  except:\n",
        "    print('Bad MIDI:', f)\n",
        "    continue\n",
        "\n",
        "print('Task complete :)')\n",
        "print('==================================================')\n",
        "print('Number of processed dataset MIDI files:', files_count)\n",
        "print('==================================================')\n",
        "print('Done! Enjoy! :)')"
      ],
      "execution_count": null,
      "outputs": []
    },
    {
      "cell_type": "markdown",
      "metadata": {
        "id": "pspQUKcdiYHx"
      },
      "source": [
        "# Congrats! You did it! :)"
      ]
    }
  ]
}