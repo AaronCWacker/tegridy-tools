{
  "nbformat": 4,
  "nbformat_minor": 0,
  "metadata": {
    "colab": {
      "name": "Syllablic_Lyrics_Generator.ipynb",
      "private_outputs": true,
      "provenance": [],
      "collapsed_sections": [],
      "machine_shape": "hm"
    },
    "kernelspec": {
      "name": "python3",
      "display_name": "Python 3"
    },
    "language_info": {
      "name": "python"
    }
  },
  "cells": [
    {
      "cell_type": "markdown",
      "metadata": {
        "id": "kzys2997_d0D"
      },
      "source": [
        "\n",
        "# Sylablic Lyrics Generator (ver. 1.0)\n",
        "\n",
        "## Simple implementation for all your syllablic lyrics needs\n",
        "\n",
        "***\n",
        "\n",
        "## Powered by tegridy-tools\n",
        "\n",
        "***\n",
        "\n",
        "### Project Los Angeles\n",
        "###Tegridy Code 2021\n",
        "\n",
        "***"
      ]
    },
    {
      "cell_type": "markdown",
      "metadata": {
        "id": "kXRmX0Z2AEOM"
      },
      "source": [
        "# Setup Environment"
      ]
    },
    {
      "cell_type": "code",
      "metadata": {
        "id": "-v4IOG5M1jP9",
        "cellView": "form"
      },
      "source": [
        "#@title Clone tegridy-tools\n",
        "!git clone https://github.com/asigalov61/tegridy-tools\n",
        "!pip install tqdm"
      ],
      "execution_count": null,
      "outputs": []
    },
    {
      "cell_type": "code",
      "metadata": {
        "id": "bNwcTcoo1uLe",
        "cellView": "form"
      },
      "source": [
        "#@title Import needed modules\n",
        "%cd /content/tegridy-tools/tegridy-tools\n",
        "\n",
        "import secrets\n",
        "import random\n",
        "\n",
        "import TMIDIX\n",
        "import SyllablesSearch\n",
        "\n",
        "import tqdm\n",
        "\n",
        "from pprint import pprint"
      ],
      "execution_count": null,
      "outputs": []
    },
    {
      "cell_type": "markdown",
      "metadata": {
        "id": "Jgz90-FqAIBy"
      },
      "source": [
        "# Load and generate"
      ]
    },
    {
      "cell_type": "code",
      "metadata": {
        "id": "Rp8cXvs5JMkp",
        "cellView": "form"
      },
      "source": [
        "#@title Load the source lyrics\n",
        "\n",
        "#@markdown NOTE: alternative_input_prompt overrides the lyrics txt file\n",
        "\n",
        "full_path_to_lyrics_txt_file = \"/content/tegridy-tools/tegridy-tools/seed-lyrics.txt\" #@param {type:\"string\"}\n",
        "alternative_input_prompt = \"\" #@param {type:\"string\"}\n",
        "\n",
        "if len(alternative_input_prompt) == 0:\n",
        "  with open(full_path_to_lyrics_txt_file) as f:\n",
        "    lyrics = f.read()\n",
        "  \n",
        "  sylls = SyllablesSearch.Lyric_Syllables_Processor(lyrics)\n",
        "\n",
        "else:\n",
        "  sylls = SyllablesSearch.Lyric_Syllables_Processor(alternative_input_prompt)\n",
        "  "
      ],
      "execution_count": null,
      "outputs": []
    },
    {
      "cell_type": "code",
      "metadata": {
        "id": "SJ6RHNh-fOpp",
        "cellView": "form"
      },
      "source": [
        "#@title Generate sylablic lyrics\n",
        "\n",
        "#@markdown NOTES: \n",
        "\n",
        "#@markdown Lyrics generation is non-deterministic and the results will be different every time. Make sure to save the ones that you liked or they will be lost\n",
        "\n",
        "#@markdown It is normal for the generator to produce incoherent output quite often, so you will need to regenerate many times before you will see good samples\n",
        "\n",
        "verses = []\n",
        "\n",
        "for s in sylls[1].split('3'):\n",
        "  if len(s) != 0:\n",
        "    verses.append(s.split('2'))\n",
        "\n",
        "dic = SyllablesSearch.load_syllables_dictionary()\n",
        "random.shuffle(dic)\n",
        "\n",
        "song = []\n",
        "s = []\n",
        "\n",
        "for v in verses:\n",
        "  for vv in v:\n",
        "    if len(vv) != 0:\n",
        "      for d in dic:\n",
        "        if d[1] == vv:\n",
        "          s.append(d[0])\n",
        "          break\n",
        "\n",
        "  song.append(s)\n",
        "  s = []\n",
        "\n",
        "pprint(song, compact=True)      "
      ],
      "execution_count": null,
      "outputs": []
    },
    {
      "cell_type": "markdown",
      "metadata": {
        "id": "s_jdan9M_7b7"
      },
      "source": [
        "# Congrats! You did it! :)"
      ]
    }
  ]
}
