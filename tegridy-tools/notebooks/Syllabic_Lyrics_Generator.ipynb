{
  "nbformat": 4,
  "nbformat_minor": 0,
  "metadata": {
    "colab": {
      "name": "Syllabic_Lyrics_Generator.ipynb",
      "private_outputs": true,
      "provenance": [],
      "collapsed_sections": [],
      "machine_shape": "hm"
    },
    "kernelspec": {
      "name": "python3",
      "display_name": "Python 3"
    },
    "language_info": {
      "name": "python"
    }
  },
  "cells": [
    {
      "cell_type": "markdown",
      "metadata": {
        "id": "kzys2997_d0D"
      },
      "source": [
        "\n",
        "# Syllabic Lyrics Generator (ver. 2.0)\n",
        "\n",
        "## Advanced implementation for all your syllabic lyrics needs\n",
        "\n",
        "***\n",
        "\n",
        "### Powered by tegridy-tools https://github.com/asigalov61/tegridy-tools and by the amazing symspellpy library https://github.com/mammothb/symspellpy\n",
        "\n",
        "***\n",
        "\n",
        "#### Project Los Angeles\n",
        "\n",
        "#### Tegridy Code 2021\n",
        "\n",
        "***"
      ]
    },
    {
      "cell_type": "markdown",
      "metadata": {
        "id": "kXRmX0Z2AEOM"
      },
      "source": [
        "# Setup Environment"
      ]
    },
    {
      "cell_type": "code",
      "metadata": {
        "id": "-v4IOG5M1jP9",
        "cellView": "form"
      },
      "source": [
        "#@title Install all requirements\n",
        "!git clone https://github.com/asigalov61/tegridy-tools\n",
        "!python -m pip install -U symspellpy\n",
        "!pip install tqdm"
      ],
      "execution_count": null,
      "outputs": []
    },
    {
      "cell_type": "code",
      "metadata": {
        "id": "bNwcTcoo1uLe",
        "cellView": "form"
      },
      "source": [
        "#@title Import needed modules\n",
        "%cd /content/tegridy-tools/tegridy-tools\n",
        "\n",
        "import secrets\n",
        "import random\n",
        "\n",
        "import TMIDIX\n",
        "import SyllablesSearch\n",
        "\n",
        "from symspellpy import SymSpell, Verbosity\n",
        "from symspellpy import SymSpell\n",
        "from itertools import islice\n",
        "import pkg_resources\n",
        "\n",
        "import tqdm\n",
        "\n",
        "from pprint import pprint\n",
        "%cd /content/\n",
        "print('Modules loaded!')"
      ],
      "execution_count": null,
      "outputs": []
    },
    {
      "cell_type": "markdown",
      "metadata": {
        "id": "Jgz90-FqAIBy"
      },
      "source": [
        "# Load the source lyrics"
      ]
    },
    {
      "cell_type": "code",
      "metadata": {
        "id": "Rp8cXvs5JMkp",
        "cellView": "form"
      },
      "source": [
        "#@title Load lyrics\n",
        "\n",
        "#@markdown NOTE: alternative_input_prompt overrides the lyrics txt file\n",
        "\n",
        "full_path_to_lyrics_txt_file = \"/content/tegridy-tools/tegridy-tools/seed-lyrics.txt\" #@param {type:\"string\"}\n",
        "alternative_input_prompt = \"\" #@param {type:\"string\"}\n",
        "\n",
        "print('=' * 80)\n",
        "print('Loading lyrics, please wait...')\n",
        "print('=' * 80)\n",
        "\n",
        "if len(alternative_input_prompt) == 0:\n",
        "  with open(full_path_to_lyrics_txt_file) as f:\n",
        "    lyrics = f.read()\n",
        "  \n",
        "  sylls = SyllablesSearch.Lyric_Syllables_Processor(lyrics)\n",
        "\n",
        "else:\n",
        "  sylls = SyllablesSearch.Lyric_Syllables_Processor(alternative_input_prompt)\n",
        "print(chr(10))\n",
        "print('=' * 80)\n",
        "pprint(sylls[0], compact=True)\n",
        "print('=' * 80) "
      ],
      "execution_count": null,
      "outputs": []
    },
    {
      "cell_type": "markdown",
      "metadata": {
        "id": "YP4GQeJyL9RI"
      },
      "source": [
        "# Generate initial syllabic lyrics"
      ]
    },
    {
      "cell_type": "code",
      "metadata": {
        "id": "SJ6RHNh-fOpp",
        "cellView": "form"
      },
      "source": [
        "#@title Generate lyrics\n",
        "\n",
        "#@markdown NOTES: \n",
        "\n",
        "#@markdown Lyrics generation is non-deterministic and the results will be different every time. Make sure to save the ones that you liked or they will be lost\n",
        "\n",
        "#@markdown It is normal for the generator to produce incoherent output quite often, so you will need to regenerate many times before you will see good samples\n",
        "\n",
        "verses = []\n",
        "\n",
        "for s in sylls[1].split('3'):\n",
        "  if len(s) != 0:\n",
        "    verses.append(s.split('2'))\n",
        "\n",
        "dic = SyllablesSearch.load_syllables_dictionary()\n",
        "random.shuffle(dic)\n",
        "\n",
        "song = []\n",
        "s = []\n",
        "\n",
        "for v in verses:\n",
        "  for vv in v:\n",
        "    if len(vv) != 0:\n",
        "      for d in dic:\n",
        "        if d[1] == vv:\n",
        "          s.append(d[0])\n",
        "          break\n",
        "\n",
        "  song.append(s)\n",
        "  s = []\n",
        "\n",
        "pprint(song, compact=True)      "
      ],
      "execution_count": null,
      "outputs": []
    },
    {
      "cell_type": "markdown",
      "metadata": {
        "id": "W3Q2iXhcMRX4"
      },
      "source": [
        "# Articulate and enchance generated lyrics coherency"
      ]
    },
    {
      "cell_type": "code",
      "metadata": {
        "cellView": "form",
        "id": "WYLYuD_MLtON"
      },
      "source": [
        "#@title Articulate lyrics\n",
        "full_path_to_dictionary_source_text = \"/content/tegridy-tools/tegridy-data/English-CLV-Torah.txt\" #@param {type:\"string\"}\n",
        "print('=' * 80)\n",
        "\n",
        "print('Creating articulating dictionarry...')\n",
        "sym_spell = SymSpell()\n",
        "sym_spell.create_dictionary(full_path_to_dictionary_source_text)\n",
        "print('=' * 80)\n",
        "\n",
        "print('Articularing lyrics [distance == 2]')\n",
        "print('=' * 80)\n",
        "\n",
        "for i in range(len(song)):\n",
        "\n",
        "  input_term = ' '.join(song[i])\n",
        "\n",
        "  # max edit distance per lookup (per single word, not per whole input string)\n",
        "  suggestions = sym_spell.lookup_compound(input_term, max_edit_distance=2)\n",
        "  # display suggestion term, edit distance, and term frequency\n",
        "  for suggestion in suggestions:\n",
        "      print(suggestion)\n",
        "print('=' * 80)\n",
        "\n",
        "print('Articularing lyrics [distance == 1]')\n",
        "print('=' * 80)\n",
        "\n",
        "for i in range(len(song)):\n",
        "\n",
        "  input_term = ' '.join(song[i])\n",
        "\n",
        "  # max edit distance per lookup (per single word, not per whole input string)\n",
        "  suggestions = sym_spell.lookup_compound(input_term, max_edit_distance=1)\n",
        "  # display suggestion term, edit distance, and term frequency\n",
        "  for suggestion in suggestions:\n",
        "      print(suggestion)\n",
        "print('=' * 80)"
      ],
      "execution_count": null,
      "outputs": []
    },
    {
      "cell_type": "markdown",
      "metadata": {
        "id": "s_jdan9M_7b7"
      },
      "source": [
        "# Congrats! You did it! :)"
      ]
    }
  ]
}