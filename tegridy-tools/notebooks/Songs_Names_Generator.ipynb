{
  "nbformat": 4,
  "nbformat_minor": 0,
  "metadata": {
    "colab": {
      "name": "Songs_Names_Generator.ipynb",
      "private_outputs": true,
      "provenance": [],
      "collapsed_sections": []
    },
    "kernelspec": {
      "name": "python3",
      "display_name": "Python 3"
    }
  },
  "cells": [
    {
      "cell_type": "markdown",
      "metadata": {
        "id": "Ooxwh0JnLHk0"
      },
      "source": [
        "# Songs Names Generator (Ver 1.0)\n",
        "\n",
        "***\n",
        "\n",
        "This is a work in progress so please check back for updates.\n",
        "\n",
        "***\n",
        "\n",
        "Project Los Angeles\n",
        "\n",
        "Tegridy Code 2021"
      ]
    },
    {
      "cell_type": "code",
      "metadata": {
        "id": "qRWETHuoLZMg"
      },
      "source": [
        "import os\n",
        "import tqdm\n",
        "from tqdm import auto\n",
        "from shutil import copyfile\n",
        "import secrets\n",
        "\n",
        "%cd /content\n",
        "!mkdir Input\n",
        "!mkdir Output"
      ],
      "execution_count": null,
      "outputs": []
    },
    {
      "cell_type": "code",
      "metadata": {
        "id": "r462b6A9hK6B"
      },
      "source": [
        "word3 = ['Performance', 'Piano', 'Tale', 'Improvisation', 'Forte-Piano', 'Pianoforte', 'Grand Piano', 'Exposition']\n",
        "\n",
        "word2 = ['Spring', 'Summer', 'Autmn', 'Winter', 'Morning', 'Evening', 'Noon', 'Midnight']\n",
        "\n",
        "word4 = ['Story', 'Etude', 'Menuet', 'Opus', 'Song', 'Melody', 'Waltz', 'Exploration']\n",
        "\n",
        "word1 = ['Happy', 'Sad', 'Joyful', 'Emotional', 'Beautiful', 'Touching', 'Meaningful', 'Pleasant']\n",
        "\n",
        "word5 = ['#1', '#2', '#3', '#4', '#5', '#6', '#7', '#8']"
      ],
      "execution_count": null,
      "outputs": []
    },
    {
      "cell_type": "code",
      "metadata": {
        "id": "xdpec9UDh4x5"
      },
      "source": [
        "repeats = []\n",
        "r = 0\n",
        "\n",
        "for i in range(1500):\n",
        "\n",
        "  output = word1[secrets.randbelow(8)] + ' ' + word2[secrets.randbelow(8)] + ' ' + word3[secrets.randbelow(8)] + ' ' + word4[secrets.randbelow(8)] + ' ' + word5[secrets.randbelow(8)] \n",
        "  if output not in repeats:\n",
        "    repeats.append(output)\n",
        "  else:\n",
        "    r += 1\n",
        "    continue\n",
        "\n",
        "  print(output)\n",
        "print('=' * 70)\n",
        "print('Total names created:', i-r+1)\n",
        "print('Repeats value:', r)"
      ],
      "execution_count": null,
      "outputs": []
    },
    {
      "cell_type": "code",
      "metadata": {
        "id": "SlX5Wm-0n6Zc"
      },
      "source": [
        "print('Loading MIDI files...')\n",
        "print('This may take a while on a large dataset in particular.')\n",
        "\n",
        "files_count = 0\n",
        "\n",
        "dataset_addr = \"/content/Input\"\n",
        "os.chdir(dataset_addr)\n",
        "filez = os.listdir(dataset_addr)\n",
        "\n",
        "print('Processing MIDI files. Please wait...')\n",
        "for f in tqdm.auto.tqdm(filez):\n",
        "  copyfile(f, ('../Output/' + repeats[files_count] + '.mid'))\n",
        "\n",
        "  files_count += 1"
      ],
      "execution_count": null,
      "outputs": []
    }
  ]
}