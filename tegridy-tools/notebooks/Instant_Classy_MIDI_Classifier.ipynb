{
  "nbformat": 4,
  "nbformat_minor": 0,
  "metadata": {
    "colab": {
      "name": "Instant_Classy_MIDI_Classifier.ipynb",
      "private_outputs": true,
      "provenance": [],
      "collapsed_sections": [],
      "machine_shape": "hm"
    },
    "kernelspec": {
      "name": "python3",
      "display_name": "Python 3"
    },
    "language_info": {
      "name": "python"
    }
  },
  "cells": [
    {
      "cell_type": "markdown",
      "metadata": {
        "id": "2WRK6OLqCLY2"
      },
      "source": [
        "# Instant Classy (ver 1.0)\n",
        "\n",
        "***\n",
        "\n",
        "## Very fast and precise MIDI classifier\n",
        "\n",
        "***\n",
        "\n",
        "### Powered by FuzzyWuzzy: https://github.com/seatgeek/fuzzywuzzy\n",
        "\n",
        "***\n",
        "\n",
        "#### Classification is done according to the LAKH dataset: https://colinraffel.com/projects/lmd/\n",
        "\n",
        "#### Colin Raffel. \"Learning-Based Methods for Comparing Sequences, with Applications to Audio-to-MIDI Alignment and Matching\". PhD Thesis, 2016.\n",
        "\n",
        "***\n",
        "\n",
        "#### Project Los Angeles\n",
        "#### Tegridy Code 2021\n",
        "\n",
        "***"
      ]
    },
    {
      "cell_type": "markdown",
      "metadata": {
        "id": "j-GNwmsJEqZp"
      },
      "source": [
        "# Setup environment"
      ]
    },
    {
      "cell_type": "code",
      "metadata": {
        "cellView": "form",
        "id": "sfbE82M-wdFP"
      },
      "source": [
        "#@title Install dependencies\n",
        "!git clone https://github.com/asigalov61/tegridy-tools\n",
        "!pip install fuzzywuzzy[speedup]"
      ],
      "execution_count": null,
      "outputs": []
    },
    {
      "cell_type": "code",
      "metadata": {
        "cellView": "form",
        "id": "_9S0avuUw3fv"
      },
      "source": [
        "#@title Import needed modules\n",
        "\n",
        "%cd /content/tegridy-tools/tegridy-tools\n",
        "import TMIDI\n",
        "%cd /content\n",
        "\n",
        "import pickle\n",
        "import gzip\n",
        "\n",
        "from fuzzywuzzy import fuzz\n",
        "from fuzzywuzzy import process\n",
        "\n",
        "from tqdm import auto"
      ],
      "execution_count": null,
      "outputs": []
    },
    {
      "cell_type": "markdown",
      "metadata": {
        "id": "kAF3yGIfEsV1"
      },
      "source": [
        "# Classify"
      ]
    },
    {
      "cell_type": "code",
      "metadata": {
        "cellView": "form",
        "id": "L5cqqiXVxCIr"
      },
      "source": [
        "#@title Prep classifier data and load your MIDI\n",
        "\n",
        "full_path_to_MIDI_to_classify = \"/content/tegridy-tools/tegridy-tools/seed2.mid\" #@param {type:\"string\"}\n",
        "\n",
        "print('=' * 70)\n",
        "print('Loading data...')\n",
        "print('=' * 70)\n",
        "\n",
        "# Loading signatures and target MIDI\n",
        "data = pickle.load(gzip.open('./tegridy-tools/tegridy-data/Instant_Classy_LAKH_MIDI_Signatures_Pack.pickle.gz'))\n",
        "\n",
        "print('Total number of loaded signatures:', data[5])\n",
        "text, melody, chords = TMIDI.Optimus_MIDI_TXT_Processor(full_path_to_MIDI_to_classify, MIDI_channel = 16, MIDI_patch=range(0,127))\n",
        "\n",
        "# prepping data\n",
        "melody_list_f = []\n",
        "chords_list_f = []\n",
        "\n",
        "# melody\n",
        "m_st_sum = sum([y[1] for y in melody])\n",
        "m_st_avg = int(m_st_sum / len(melody))\n",
        "m_du_sum = sum([y[2] for y in melody])\n",
        "m_du_avg = int(m_du_sum / len(melody))\n",
        "m_ch_sum = sum([y[3] for y in melody])\n",
        "m_ch_avg = int(m_ch_sum / len(melody))\n",
        "m_pt_sum = sum([y[4] for y in melody])\n",
        "m_pt_avg = int(m_pt_sum / len(melody))\n",
        "m_vl_sum = sum([y[5] for y in melody])\n",
        "m_vl_avg = int(m_vl_sum / len(melody))\n",
        "melody_list_f.append([m_st_sum, \n",
        "                      m_st_avg,\n",
        "                      m_du_sum,\n",
        "                      m_du_avg,\n",
        "                      m_ch_sum,\n",
        "                      m_ch_avg,\n",
        "                      m_pt_sum,\n",
        "                      m_pt_avg,\n",
        "                      m_vl_sum,\n",
        "                      m_vl_avg])\n",
        "\n",
        "# chords\n",
        "c_st_sum = sum([y[1] for y in chords])\n",
        "c_st_avg = int(c_st_sum / len(chords))\n",
        "c_du_sum = sum([y[2] for y in chords])\n",
        "c_du_avg = int(c_du_sum / len(chords))\n",
        "c_ch_sum = sum([y[3] for y in chords])\n",
        "c_ch_avg = int(c_ch_sum / len(chords))\n",
        "c_pt_sum = sum([y[4] for y in chords])\n",
        "c_pt_avg = int(c_pt_sum / len(chords))\n",
        "c_vl_sum = sum([y[5] for y in chords])\n",
        "c_vl_avg = int(c_vl_sum / len(chords))\n",
        "\n",
        "chords_list_f.append([c_st_sum, \n",
        "                      c_st_avg,\n",
        "                      c_du_sum,\n",
        "                      c_du_avg,\n",
        "                      c_ch_sum,\n",
        "                      c_ch_avg,\n",
        "                      c_pt_sum,\n",
        "                      c_pt_avg,\n",
        "                      c_vl_sum,\n",
        "                      c_vl_avg])\n",
        "\n",
        "print('=' * 70)\n",
        "print('Input MIDI file name:', full_path_to_MIDI_to_classify)\n",
        "print('=' * 70)\n",
        "print('Melody:',melody_list_f[0])\n",
        "print('Chords:',chords_list_f[0])\n",
        "print('=' * 70)"
      ],
      "execution_count": null,
      "outputs": []
    },
    {
      "cell_type": "code",
      "metadata": {
        "cellView": "form",
        "id": "2hraNFy1z3po"
      },
      "source": [
        "#@title Classify your MIDI\n",
        "\n",
        "#@markdown Match Points: \n",
        "\n",
        "#@markdown 1-2 = Start Time (sum/avg)\n",
        "\n",
        "#@markdown 3-4 = Duration (sum/avg)\n",
        "\n",
        "#@markdown 5-6 = Channel (sum/avg)\n",
        "\n",
        "#@markdown 7-8 = Pitch (sum/avg)\n",
        "\n",
        "#@markdown 9-10 = Velocity (sum/avg)\n",
        "\n",
        "\n",
        "number_of_match_points = 10 #@param {type:\"slider\", min:1, max:10, step:1}\n",
        "\n",
        "print('=' * 70)\n",
        "print('Instant Classy MIDI Classifier')\n",
        "print('=' * 70)\n",
        "print('Classifying...')\n",
        "print('Please wait...')\n",
        "print('=' * 70)\n",
        "print('Number of requested match points', number_of_match_points)\n",
        "\n",
        "# melody\n",
        "\n",
        "ratings = []\n",
        "for m in auto.tqdm(data[1]):\n",
        "  ratings.append(fuzz.ratio(melody_list_f[0][:number_of_match_points], m[:number_of_match_points]))\n",
        "\n",
        "print('=' * 70)\n",
        "print('Melody match:')\n",
        "print('Rating:', max(ratings))\n",
        "print('Match:', data[3][ratings.index(max(ratings))][2])\n",
        "print('MIDI:', data[3][ratings.index(max(ratings))][1])\n",
        "print('Hash:', data[3][ratings.index(max(ratings))][0])\n",
        "print('Data', data[1][ratings.index(max(ratings))])\n",
        "\n",
        "# chords\n",
        "\n",
        "ratings = []\n",
        "for c in auto.tqdm(data[0]):\n",
        "  ratings.append(fuzz.ratio(chords_list_f[0][:number_of_match_points], c[:number_of_match_points]))\n",
        "\n",
        "print('=' * 70)\n",
        "print('Melody and Chords match:')\n",
        "print('Rating:', max(ratings))\n",
        "print('Match:', data[3][ratings.index(max(ratings))][2])\n",
        "print('MIDI:', data[3][ratings.index(max(ratings))][1])\n",
        "print('Hash:', data[3][ratings.index(max(ratings))][0])\n",
        "print('Data', data[0][ratings.index(max(ratings))])\n",
        "\n",
        "print('=' * 70)"
      ],
      "execution_count": null,
      "outputs": []
    },
    {
      "cell_type": "markdown",
      "metadata": {
        "id": "mFacfukWE-VO"
      },
      "source": [
        "# Congrats! You did it! :)"
      ]
    }
  ]
}