{
  "nbformat": 4,
  "nbformat_minor": 0,
  "metadata": {
    "colab": {
      "name": "Bulk_MIDI_Squasher.ipynb",
      "private_outputs": true,
      "provenance": [],
      "collapsed_sections": []
    },
    "kernelspec": {
      "name": "python3",
      "display_name": "Python 3"
    },
    "language_info": {
      "name": "python"
    }
  },
  "cells": [
    {
      "cell_type": "markdown",
      "metadata": {
        "id": "d5pKoNB3iryl"
      },
      "source": [
        "# Bulk MIDI Squasher (ver. 1.0)\n",
        "\n",
        "***\n",
        "\n",
        "## Simple implementation for all your MIDI squashing needs\n",
        "\n",
        "***\n",
        "\n",
        "### Powered by tegridy-tools TMIDIX MIDI Processors\n",
        "\n",
        "***\n",
        "\n",
        "#### Project Los Angeles\n",
        "\n",
        "#### Tegridy Code 2021\n",
        "\n",
        "***"
      ]
    },
    {
      "cell_type": "markdown",
      "metadata": {
        "id": "DRwPzKS6jQig"
      },
      "source": [
        "# Setup environment"
      ]
    },
    {
      "cell_type": "code",
      "metadata": {
        "id": "kjCVG96FqP_v",
        "cellView": "form"
      },
      "source": [
        "#@title Install tegridy-tools\n",
        "!git clone https://github.com/asigalov61/tegridy-tools"
      ],
      "execution_count": null,
      "outputs": []
    },
    {
      "cell_type": "code",
      "metadata": {
        "id": "gspS8w4qqcOS",
        "cellView": "form"
      },
      "source": [
        "#@title Import all needed modules\n",
        "\n",
        "print('Loading needed modules. Please wait...')\n",
        "import os\n",
        "import copy\n",
        "import secrets\n",
        "\n",
        "if not os.path.exists('/content/Dataset'):\n",
        "    os.makedirs('/content/Dataset')\n",
        "\n",
        "if not os.path.exists('/content/Output'):\n",
        "    os.makedirs('/content/Output')\n",
        "\n",
        "os.chdir('/content/tegridy-tools/tegridy-tools')\n",
        "import TMIDIX\n",
        "\n",
        "import tqdm\n",
        "from tqdm import auto\n",
        "\n",
        "os.chdir('/content/')\n",
        "print('Loading complete. Enjoy! :)')"
      ],
      "execution_count": null,
      "outputs": []
    },
    {
      "cell_type": "markdown",
      "metadata": {
        "id": "3NvuXtaHfflL"
      },
      "source": [
        "# Download a Sample MIDI Dataset"
      ]
    },
    {
      "cell_type": "code",
      "metadata": {
        "cellView": "form",
        "id": "30ZZeIXofQEY"
      },
      "source": [
        "#@title Download special Tegridy Piano MIDI dataset (Recommended)\n",
        "\n",
        "#@markdown Works best stand-alone/as-is for the optimal results\n",
        "%cd /content/Dataset/\n",
        "\n",
        "!wget 'https://github.com/asigalov61/Tegridy-MIDI-Dataset/raw/master/Tegridy-Piano-CC-BY-NC-SA.zip'\n",
        "!unzip -j '/content/Dataset/Tegridy-Piano-CC-BY-NC-SA.zip'\n",
        "!rm '/content/Dataset/Tegridy-Piano-CC-BY-NC-SA.zip'\n",
        "\n",
        "%cd /content/"
      ],
      "execution_count": null,
      "outputs": []
    },
    {
      "cell_type": "markdown",
      "metadata": {
        "id": "SZrK4Xb0jUr7"
      },
      "source": [
        "# Bulk Squash MIDI files"
      ]
    },
    {
      "cell_type": "code",
      "metadata": {
        "id": "MsFV3Uwnqeao",
        "cellView": "form"
      },
      "source": [
        "#@title Run this code to squash your MIDIs\n",
        "\n",
        "#@markdown 0) Files will be written to the \"./Output\" dir\n",
        "\n",
        "#@markdown 1) Dataset MIDI file names are used as song names. Feel free to change it to anything you like.\n",
        "\n",
        "#@markdown 2) Best results are achieved with the single-track, single-channel, single-instrument MIDI 0 files with plain English names (avoid special or sys/foreign chars)\n",
        "\n",
        "#@markdown 3) MIDI Channel = -1 means all MIDI channels except drums. MIDI Channel = 16 means all channels will be processed. Otherwise, only single indicated MIDI channel will be processed.\n",
        "\n",
        "desired_MIDI_channel_to_process = 16 #@param {type:\"slider\", min:-1, max:16, step:1}\n",
        "\n",
        "simulate_velocity = True #@param {type:\"boolean\"}\n",
        "number_of_ticks_per_quarter = 500 #@param {type:\"slider\", min:10, max:500, step:10}\n",
        "\n",
        "print('TMIDIX Optimus MIDI Processor')\n",
        "print('Starting up...')\n",
        "###########\n",
        "\n",
        "average_note_pitch = 0\n",
        "min_note = 127\n",
        "max_note = 0\n",
        "\n",
        "files_count = 0\n",
        "\n",
        "TXT = ''\n",
        "melody = []\n",
        "chords = []\n",
        "output = []\n",
        "###########\n",
        "\n",
        "print('Loading MIDI files...')\n",
        "print('This may take a while on a large dataset in particular.')\n",
        "\n",
        "dataset_addr = \"/content/Dataset/\"\n",
        "os.chdir(dataset_addr)\n",
        "filez = os.listdir(dataset_addr)\n",
        "\n",
        "print('Processing MIDI files. Please wait...')\n",
        "for f in tqdm.auto.tqdm(filez):\n",
        "  try:\n",
        "    fn = os.path.basename(f)\n",
        "    fn1 = fn.split('.')[0]\n",
        "\n",
        "    files_count += 1\n",
        "    out = TMIDIX.Optimus_MIDI_TXT_Processor(f, MIDI_channel=desired_MIDI_channel_to_process, MIDI_patch=range(0, 128))\n",
        "\n",
        "    output = TMIDIX.Optimus_Squash(out[2], mono_compression=False)[0]\n",
        "\n",
        "    song_name = 'Song: ' + fn1\n",
        "    fname = '/content/Output/' + fn1\n",
        "\n",
        "    output_signature = 'Bulk MIDI Velocity Simulator'\n",
        "\n",
        "    detailed_stats = TMIDIX.Tegridy_SONG_to_MIDI_Converter(output,\n",
        "                                                          output_signature = output_signature,  \n",
        "                                                          output_file_name = fname, \n",
        "                                                          track_name=song_name, \n",
        "                                                          number_of_ticks_per_quarter=number_of_ticks_per_quarter)\n",
        "                                                          #list_of_MIDI_patches=[0, 0, 0, 0, 0, 0, 0, 0, 0, 0, 0, 0, 0, 0, 0, 0,])\n",
        "  except KeyboardInterrupt:\n",
        "    print('Saving current progress and quitting...')\n",
        "    break  \n",
        "  \n",
        "  except:\n",
        "    print('Bad MIDI:', f)\n",
        "    continue\n",
        "\n",
        "print('Task complete :)')\n",
        "print('==================================================')\n",
        "print('Number of processed dataset MIDI files:', files_count)\n",
        "print('==================================================')\n",
        "print('Done! Enjoy! :)')"
      ],
      "execution_count": null,
      "outputs": []
    },
    {
      "cell_type": "markdown",
      "metadata": {
        "id": "TYEXnPgM0B3F"
      },
      "source": [
        "# WIP BONUS\n",
        "\n",
        "## Try to unsquash the last converted file here\n",
        "\n",
        "## This is WIP and a rather crude implementation so the results will be average at best. \n",
        "\n",
        "## Feel free to modify/improve the code below to your liking"
      ]
    },
    {
      "cell_type": "code",
      "metadata": {
        "id": "Y1niLc7pyc7v",
        "cellView": "form"
      },
      "source": [
        "#@title Unsquash the last converted MIDI\n",
        "out = []\n",
        "\n",
        "for o in output:\n",
        "  if o[3] != 9:\n",
        "    cc1 = copy.deepcopy(o)\n",
        "    cc2 = copy.deepcopy(o)\n",
        "    cc3 = copy.deepcopy(o)\n",
        "    cc4 = copy.deepcopy(o)\n",
        "\n",
        "    cc1[4] = o[4] + 24\n",
        "    cc2[4] = o[4] + 12\n",
        "    cc3[4] = o[4] - 12\n",
        "    cc4[4] = o[4] - 24\n",
        "\n",
        "    if secrets.randbelow(6) == 0:\n",
        "      out.append(cc1)\n",
        "    if secrets.randbelow(3) == 0:\n",
        "      out.append(cc2)\n",
        "    out.append(o)\n",
        "    if secrets.randbelow(3) == 0:\n",
        "      out.append(cc3)\n",
        "    if secrets.randbelow(6) == 0:\n",
        "      out.append(cc4)\n",
        "  else:\n",
        "    out.append(o)\n",
        "\n",
        "TMIDIX.Tegridy_SONG_to_MIDI_Converter(out,\n",
        "                                      output_signature = output_signature,  \n",
        "                                      output_file_name = '/content/UNSQUASHED_MIDI', \n",
        "                                      track_name=song_name, \n",
        "                                      number_of_ticks_per_quarter=number_of_ticks_per_quarter\n",
        "                                      )\n"
      ],
      "execution_count": null,
      "outputs": []
    },
    {
      "cell_type": "markdown",
      "metadata": {
        "id": "pspQUKcdiYHx"
      },
      "source": [
        "# Congrats! You did it! :)"
      ]
    }
  ]
}