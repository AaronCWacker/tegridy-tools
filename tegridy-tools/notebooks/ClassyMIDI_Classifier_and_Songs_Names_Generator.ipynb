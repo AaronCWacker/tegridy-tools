{
  "nbformat": 4,
  "nbformat_minor": 0,
  "metadata": {
    "colab": {
      "name": "ClassyMIDI_Classifier_and_Songs_Names_Generator.ipynb",
      "private_outputs": true,
      "provenance": [],
      "collapsed_sections": [],
      "toc_visible": true,
      "machine_shape": "hm"
    },
    "kernelspec": {
      "name": "python3",
      "display_name": "Python 3"
    }
  },
  "cells": [
    {
      "cell_type": "markdown",
      "metadata": {
        "id": "Ooxwh0JnLHk0"
      },
      "source": [
        "# ClassyMIDI (Ver 1.5)\n",
        "\n",
        "## Simple, yet powerful MIDI classifier and songs names generator.\n",
        "\n",
        "***\n",
        "\n",
        "### Guo R, Simpson I, Magnusson T, Kiefer C., Herremans D.. 2020. A variational autoencoder for music generation controlled by tonal tension. Joint Conference on AI Music Creativity (CSMC + MuMe).\n",
        "\n",
        "https://github.com/ruiguo-bio/midi-miner\n",
        "\n",
        "***\n",
        "\n",
        "#### Project Los Angeles\n",
        "\n",
        "#### Tegridy Code 2021\n",
        "\n",
        "***"
      ]
    },
    {
      "cell_type": "markdown",
      "metadata": {
        "id": "eDtWCDvhlNss"
      },
      "source": [
        "# Setup Environment"
      ]
    },
    {
      "cell_type": "code",
      "metadata": {
        "cellView": "form",
        "id": "b6VOvpOD71zJ"
      },
      "source": [
        "#@title Install dependencies\n",
        "!git clone https://github.com/asigalov61/tegridy-tools\n",
        "!pip install pypianoroll\n",
        "!pip install texttable\n",
        "!pip install fuzzywuzzy[speedup]\n",
        "!pip install tqdm\n",
        "!pip install pretty_midi"
      ],
      "execution_count": null,
      "outputs": []
    },
    {
      "cell_type": "code",
      "metadata": {
        "id": "qRWETHuoLZMg",
        "cellView": "form"
      },
      "source": [
        "#@title Import needed modules and create IO dirs\n",
        "\n",
        "print('Loading all needed modules. Please wait...')\n",
        "\n",
        "import secrets\n",
        "import sys\n",
        "import os\n",
        "\n",
        "os.chdir('/content/tegridy-tools/tegridy-tools')\n",
        "import TMIDI\n",
        "import ClassyMIDI\n",
        "os.chdir('/content/')\n",
        "\n",
        "import tqdm\n",
        "from tqdm import auto\n",
        "\n",
        "from shutil import copyfile\n",
        "\n",
        "import pypianoroll\n",
        "from pypianoroll import Multitrack\n",
        "\n",
        "from texttable import Texttable\n",
        "\n",
        "from pprint import pprint\n",
        "\n",
        "import zipfile\n",
        "\n",
        "from fuzzywuzzy import fuzz\n",
        "from fuzzywuzzy import process\n",
        "\n",
        "from glob import glob\n",
        "\n",
        "import pretty_midi\n",
        "\n",
        "\n",
        "import numpy as np\n",
        "\n",
        "import pickle\n",
        "\n",
        "import pandas as pd\n",
        "\n",
        "import scipy.stats\n",
        "\n",
        "from collections import Counter\n",
        "\n",
        "from functools import reduce\n",
        "\n",
        "from copy import deepcopy\n",
        "\n",
        "import json\n",
        "\n",
        "import logging\n",
        "\n",
        "print('Creating IO dirs...')\n",
        "\n",
        "# Make IO dirs\n",
        "os.chdir('/content')\n",
        "print('Prepping IO dirs...')\n",
        "if not os.path.exists('/content/Songs'):\n",
        "  os.makedirs('/content/Songs')\n",
        "if not os.path.exists('/content/Output'):\n",
        "  os.makedirs('/content/Output')\n",
        "if not os.path.exists('/content/Input'):\n",
        "  os.makedirs('/content/Input')\n",
        "\n",
        "print('Done! Enjoy! :)')"
      ],
      "execution_count": null,
      "outputs": []
    },
    {
      "cell_type": "markdown",
      "metadata": {
        "id": "ZjvOqPAIluOA"
      },
      "source": [
        "# Single MIDI classification metrics"
      ]
    },
    {
      "cell_type": "code",
      "metadata": {
        "id": "NSHQs5Jk8D5Q",
        "cellView": "form"
      },
      "source": [
        "#@title Print music metrics for a MIDI file\n",
        "full_path_to_MIDI_file = \"/content/tegridy-tools/tegridy-tools/seed2.mid\" #@param {type:\"string\"}\n",
        "\n",
        "PR, SIG = ClassyMIDI.get_music_metrics(full_path_to_MIDI_file, 4, 0)\n",
        "X = ClassyMIDI.all_features(full_path_to_MIDI_file)\n",
        "\n",
        "print('Printing all features...')\n",
        "print('=' * 100)\n",
        "\n",
        "print('track_programs:', X[0][0])\n",
        "print('track_names:', X[0][1])\n",
        "print('file_names:', X[0][2])\n",
        "print('is_drum:', X[0][3])\n",
        "print('=' * 100)\n",
        "\n",
        "print('Duration:', X[0][4])\n",
        "print('Number of notes:', X[0][5])\n",
        "print('Occupation rate:', X[0][6])\n",
        "print('Polyphony rate:', X[0][7])\n",
        "print('=' * 100)\n",
        "\n",
        "print('Highest Pitch:', X[0][8])\n",
        "print('Lowest Pitch:', X[0][9])\n",
        "print('Pitch Avg:', X[0][10])\n",
        "print('Pitch Std Dev:', X[0][11])\n",
        "print('=' * 100)\n",
        "\n",
        "print('Highest pitch norm', X[0][12])\n",
        "print('lowest pitch norm:', X[0][13])\n",
        "print('pitch mode norm:', X[0][14])\n",
        "print('pitch std norm:', X[0][15])\n",
        "print('=' * 100)\n",
        "\n",
        "print('number of interval:', X[0][16])\n",
        "print('largest interval:', X[0][17])\n",
        "print('smallest interval:', X[0][18])\n",
        "print('interval mode:', X[0][19])\n",
        "print('=' * 100)\n",
        "\n",
        "print('number of interval norm:', X[0][20])\n",
        "print('largest interval norm:', X[0][21])\n",
        "print('smallest interval norm:', X[0][22])\n",
        "print('interval mode norm:', X[0][23])\n",
        "print('longest note duration:', X[0][24])\n",
        "print('shortest note duration:', X[0][25])\n",
        "print('=' * 100)\n",
        "\n",
        "print('mean note duration:', X[0][26])\n",
        "print('longest note duration:', X[0][27])\n",
        "print('note duration std:', X[0][28])\n",
        "print('longest note duration norm:', X[0][29])\n",
        "print('shortest note duration norm:', X[0][30])\n",
        "print('mean note duration norm:', X[0][31])\n",
        "print('note duration std norm:', X[0][32])\n",
        "print('=' * 100)\n",
        "\n",
        "SIG_SIMPLE = [SIG[0], SIG[1] * 1, SIG[2], SIG[3]]\n",
        "SIG_FULL = [float(X[0][4] * 1), # Duration\n",
        "            float(X[0][5]),\n",
        "            float(X[0][6] * 1),\n",
        "            float(X[0][7] * 1),\n",
        "            \n",
        "            float(X[0][8]), # Highest Pitch\n",
        "            float(X[0][9]),\n",
        "            float(X[0][10]),\n",
        "            float(X[0][11]),\n",
        "\n",
        "            float(X[0][12] * 1), # Highest pitch norm\n",
        "            float(X[0][13] * 1),\n",
        "            float(X[0][14] * 1),\n",
        "            float(X[0][15] * 1),\n",
        "\n",
        "            float(X[0][16]), # number of interval\n",
        "            float(X[0][17]),\n",
        "            float(X[0][18]),\n",
        "            float(X[0][19]),\n",
        "\n",
        "\n",
        "            float(X[0][20] * 1), # number of interval norm\n",
        "            float(X[0][21] * 1),\n",
        "            float(X[0][22] * 1),\n",
        "            float(X[0][23] * 1),\n",
        "            float(X[0][24] * 1),\n",
        "            float(X[0][25] * 1),\n",
        "\n",
        "            float(X[0][26] * 1), # mean note duration\n",
        "            float(X[0][27] * 1),\n",
        "            float(X[0][28] * 1),\n",
        "            float(X[0][29] * 1),\n",
        "            float(X[0][30] * 1),\n",
        "            float(X[0][31] * 1),\n",
        "            float(X[0][32] * 1)]\n",
        "\n",
        "print('Resulting simple signature:', SIG_SIMPLE)\n",
        "print('Resulting simple signature length:', len(SIG_SIMPLE))\n",
        "print('Resulting simple signature summ:', sum(SIG_SIMPLE))\n",
        "print('=' * 100)\n",
        "\n",
        "print('Resulting simple signature:', SIG_FULL)\n",
        "print('Resulting simple signature length:', len(SIG_FULL))\n",
        "print('Resulting simple signature summ:', sum(SIG_FULL))\n",
        "print('=' * 100)"
      ],
      "execution_count": null,
      "outputs": []
    },
    {
      "cell_type": "markdown",
      "metadata": {
        "id": "OFnP-qwDly-m"
      },
      "source": [
        "# MIDI classification and songs names generation"
      ]
    },
    {
      "cell_type": "markdown",
      "metadata": {
        "id": "HdIiWmmSlfjK"
      },
      "source": [
        "# Download a sample MIDI dataset for training the classifier"
      ]
    },
    {
      "cell_type": "code",
      "metadata": {
        "id": "MXyYvFwhbv4R",
        "cellView": "form"
      },
      "source": [
        "#@title Download and unzip clean_midi MIDI dataset\n",
        "os.chdir('/content/Input')\n",
        "!wget http://hog.ee.columbia.edu/craffel/lmd/clean_midi.tar.gz\n",
        "!tar -xvf /content/Input/clean_midi.tar.gz"
      ],
      "execution_count": null,
      "outputs": []
    },
    {
      "cell_type": "code",
      "metadata": {
        "id": "P6cw7aHiYjTV",
        "cellView": "form"
      },
      "source": [
        "#@title Process your dataset in Input dir\n",
        "\n",
        "#@markdown NOTE: Processing large dataset may take a while so keep it in mind.\n",
        "\n",
        "#@markdown NOTE: NOTE-Class is not implemented in bulk classification code below. If you need NOTE-Class you will have to do it yourself.\n",
        "\n",
        "#@markdown NOTE: You can enable NOTE_Class below (very slow, bulky)\n",
        "enable_NOTE_Class = False #@param {type:\"boolean\"}\n",
        "\n",
        "\n",
        "print('ClassyMIDI Classifier and Songs Names Generator')\n",
        "print('=' * 100)\n",
        "\n",
        "print('Loading MIDI files...')\n",
        "print('This may take a while on a large dataset in particular.')\n",
        "\n",
        "files_count = 0\n",
        "\n",
        "dataset_addr = \"/content/Input\"\n",
        "os.chdir(dataset_addr)\n",
        "filez = [y for x in os.walk(dataset_addr) for y in glob(os.path.join(x[0], '*.mid'))]\n",
        "\n",
        "CLASS_DATA = []\n",
        "NOTE_DATA = []\n",
        "\n",
        "print('Processing MIDI files. Please wait...')\n",
        "for f in tqdm.auto.tqdm(filez):\n",
        "  \n",
        "  try:\n",
        "    SIG_SIMPLE, SIG_FULL, ALL_F, PRL = ClassyMIDI.get_signatures(f)\n",
        "    \n",
        "    fn = os.path.basename(f)\n",
        "    fnn = fn.split('.')[0]\n",
        "    fnnn = []\n",
        "    \n",
        "    X = PRL.flatten()\n",
        "    \n",
        "    s = secrets.randbelow(len(X))\n",
        "    \n",
        "    Z = []\n",
        "\n",
        "    if enable_NOTE_Class:\n",
        "\n",
        "      Z = [TMIDI.Tegridy_Optimus_Sum_Intro_Rand_End_Sampler(f)]\n",
        "      NOTE_DATA.append(Z)\n",
        "\n",
        "    CLASS_DATA.append([f, fnn, fnnn, SIG_SIMPLE, SIG_FULL, ALL_F.tolist(), X[s:s+64].tolist(), Z ])  \n",
        "  \n",
        "    files_count += 1\n",
        "\n",
        "  except KeyboardInterrupt:\n",
        "    break\n",
        "\n",
        "  except:\n",
        "    print('Bad file', f)\n",
        "    continue"
      ],
      "execution_count": null,
      "outputs": []
    },
    {
      "cell_type": "code",
      "metadata": {
        "id": "1kUEHmS8MoKe",
        "cellView": "form"
      },
      "source": [
        "#@title Save the processed signatures to file\n",
        "# Writing dataset to pickle file\n",
        "TMIDI.Tegridy_Pickle_File_Writer(CLASS_DATA, '/content/ClassySigsDataset')"
      ],
      "execution_count": null,
      "outputs": []
    },
    {
      "cell_type": "markdown",
      "metadata": {
        "id": "IGog_lDeoL2x"
      },
      "source": [
        " # (Bulk) MIDI Classification and Songs Names Generation"
      ]
    },
    {
      "cell_type": "markdown",
      "metadata": {
        "id": "eREsOE9NHwAU"
      },
      "source": [
        " ## Choose ONE pre-processed dataset if you did not process yours above\n",
        "\n",
        " ### NOTE: Do not load pre-processed datasets if you loaded yours above"
      ]
    },
    {
      "cell_type": "code",
      "metadata": {
        "id": "SRyD41aOIX3R",
        "cellView": "form"
      },
      "source": [
        "#@title Load ClassyMIDI Signatures Pack (173467 MIDI signatures from the full LAKH dataset)\n",
        "\n",
        "#@markdown NOTE: This is a very large dataset (700+ MB) so it needs at least 8GB of free RAM to load \n",
        "\n",
        "#@markdown NOTE: DO NOT RUN if you processed (and want to use) your own/sample dataset above\n",
        "print('Downloading the dataset...Please wait...')\n",
        "%cd /content/\n",
        "!wget --no-check-certificate -O ClassySigs-LAKH-Full-Dataset.zip \"https://onedrive.live.com/download?cid=8A0D502FC99C608F&resid=8A0D502FC99C608F%2118478&authkey=AAFp1jFdm99ANfw\"\n",
        "\n",
        "print('Unzipping the dataset...')\n",
        "!unzip -j ClassySigs-LAKH-Full-Dataset.zip\n",
        "\n",
        "print('Loading the dataset into memory...')\n",
        "CLASS_DATA = TMIDI.Tegridy_Any_Pickle_File_Loader('/content/ClassySigs-LAKH-Full')\n",
        "\n",
        "print('Loading complete! Enjoy! :)')"
      ],
      "execution_count": null,
      "outputs": []
    },
    {
      "cell_type": "code",
      "metadata": {
        "cellView": "form",
        "id": "S-YFU-F0jbBN"
      },
      "source": [
        "#@title Load tegridy-tools ClassyMIDI Signatures Pack (clean_midi's 10359 MIDI signatures)\n",
        "\n",
        "#@markdown NOTE: DO NOT RUN if you processed (and want to use) your own/sample dataset above\n",
        "print('Loading the dataset...')\n",
        "os.chdir('/content/tegridy-tools/tegridy-data')\n",
        "\n",
        "!unzip ClassySigs_clean_midi_10359.zip\n",
        "\n",
        "CLASS_DATA = TMIDI.Tegridy_Any_Pickle_File_Loader('/content/tegridy-tools/tegridy-data/ClassySigs_clean_midi_10359')\n",
        "\n",
        "os.chdir('/content')\n",
        "print('Done! Enjoy! :)')"
      ],
      "execution_count": null,
      "outputs": []
    },
    {
      "cell_type": "code",
      "metadata": {
        "id": "IOP-n9egOZhN",
        "cellView": "form"
      },
      "source": [
        "#@title Load tegridy-tools ClassyMIDI Signatures Pack (LAKH's 18000 MIDI signatures)\n",
        "\n",
        "#@markdown NOTE: DO NOT RUN if you processed (and want to use) your own/sample dataset above\n",
        "\n",
        "os.chdir('/content/')\n",
        "\n",
        "with zipfile.ZipFile(\"/content/tegridy-tools/tegridy-data/ClassySigs_LAKH_18000.zip\",\"r\") as zip_ref:\n",
        "    zip_ref.extractall(\"/content\")\n",
        "CLASS_DATA = TMIDI.Tegridy_Any_Pickle_File_Loader('/content/ClassySigs_LAKH_18000')\n",
        "os.chdir('/content/')\n",
        "print('Done! Enjoy! :)')"
      ],
      "execution_count": null,
      "outputs": []
    },
    {
      "cell_type": "markdown",
      "metadata": {
        "id": "6dAZdfACH0ip"
      },
      "source": [
        "## Classify"
      ]
    },
    {
      "cell_type": "code",
      "metadata": {
        "id": "twymsWlfcOJf",
        "cellView": "form"
      },
      "source": [
        "#@title Load and Classify a single MIDI\n",
        "full_path_to_MIDI_file = \"/content/tegridy-tools/tegridy-tools/seed2.mid\" #@param {type:\"string\"}\n",
        "\n",
        "print('ClassyMIDI Classifier and Songs Names Generator')\n",
        "print('=' * 100)\n",
        "\n",
        "MIDI_File = full_path_to_MIDI_file\n",
        "SIG_S, SIG_F, ALL_F, PRL = ClassyMIDI.get_signatures(MIDI_File)\n",
        "SUM, INTRO, RAND, END = TMIDI.Tegridy_Optimus_Sum_Intro_Rand_End_Sampler(full_path_to_MIDI_file)\n",
        "\n",
        "\n",
        "print('Matching MIDI', MIDI_File)\n",
        "print('=' * 100)\n",
        "\n",
        "print('MIDI Simple Signature', SIG_S)\n",
        "print('=' * 100)\n",
        "\n",
        "print('MIDI Full Signature', SIG_F)\n",
        "print('=' * 100)\n",
        "\n",
        "RATINGS_LIST = []\n",
        "\n",
        "for i in auto.tqdm(range(1, len(CLASS_DATA))):\n",
        "  RATINGS_LIST.append(fuzz.ratio(SIG_S, CLASS_DATA[i][3]))\n",
        "\n",
        "MAX_idx = max(RATINGS_LIST)  \n",
        "MATCH_idx = RATINGS_LIST.index(MAX_idx)\n",
        "\n",
        "print('Best simple match rating is', MAX_idx)\n",
        "print('Best simple match is', CLASS_DATA[MATCH_idx])\n",
        "print('=' * 100)\n",
        "\n",
        "RATINGS_LIST = []\n",
        "\n",
        "for i in auto.tqdm(range(1, len(CLASS_DATA))):\n",
        "  RATINGS_LIST.append(fuzz.ratio(SIG_F, CLASS_DATA[i][4]))\n",
        "\n",
        "MAX_idx = max(RATINGS_LIST)  \n",
        "MATCH_idx = RATINGS_LIST.index(MAX_idx)\n",
        "\n",
        "print('Best precise rating is', MAX_idx)\n",
        "print('Best precise match is', CLASS_DATA[MATCH_idx])\n",
        "print('=' * 100)\n",
        "\n",
        "try:\n",
        "  RATINGS_LIST = []\n",
        "\n",
        "  for i in auto.tqdm(range(1, len(CLASS_DATA))):\n",
        "    RATINGS_LIST.append(fuzz.ratio([SUM, INTRO], [CLASS_DATA[i][7][0][0], CLASS_DATA[i][7][0][1]]))\n",
        "\n",
        "  MAX_idx = max(RATINGS_LIST)  \n",
        "  MATCH_idx = RATINGS_LIST.index(MAX_idx)\n",
        "\n",
        "  print('Best NOTE-Class rating is', MAX_idx)\n",
        "  print('Best NOTE-Class match is', CLASS_DATA[MATCH_idx])\n",
        "  print('=' * 100)\n",
        "\n",
        "except:\n",
        "  print('NOTE-Class data is missing from CLASS_DATA. Check code and re-run classifier processor if needed.')\n",
        "  print('Skipping NOTE-Class classification...')\n",
        "print('Done! Enjoy! :)')"
      ],
      "execution_count": null,
      "outputs": []
    },
    {
      "cell_type": "code",
      "metadata": {
        "id": "wj1rujMHMATm",
        "cellView": "form"
      },
      "source": [
        "#@title Bulk classification and MIDI songs naming\n",
        "\n",
        "#@markdown 1) UPLOAD YOUR FILES TO THE \"Songs\" dir before running this cell/code\n",
        "\n",
        "#@markdown 2) NOTE: Copies of renamed source midis will be copied to the Output dir for reference and for convenience\n",
        "\n",
        "#@markdown 3) Select desired matching criteria\n",
        "\n",
        "#@markdown 4) full_float_signature matching is very slow/resource intensive. Make sure you have enough resources to run in this mode\n",
        "\n",
        "\n",
        "match_by = \"full_signature\" #@param [\"full_signature\", \"short_signature\", \"random_piano_roll_signature\", \"full_float_signature\"]\n",
        "leave_original_file_names_on_copies = False #@param {type:\"boolean\"}\n",
        "desired_prefix_for_song_new_name = \"\" #@param {type:\"string\"}\n",
        "\n",
        "print('Classy MIDI Classifier and Songs Names Generator')\n",
        "print('=' * 100)\n",
        "\n",
        "print('Classifying and naming MIDI files...')\n",
        "print('This may take a while on a large dataset in particular.')\n",
        "print('=' * 100)\n",
        "\n",
        "print('Prepping IO dirs...')\n",
        "if not os.path.exists('/content/Songs'):\n",
        "  os.makedirs('/content/Songs')\n",
        "if not os.path.exists('/content/Output'):\n",
        "  os.makedirs('/content/Output')\n",
        "if not os.path.exists('/content/Input'):\n",
        "  os.makedirs('/content/Input')\n",
        "\n",
        "print('Initialzing...')\n",
        "files_count = 0\n",
        "SONG_DATA = []\n",
        "SONG_CLASS_DATA = []\n",
        "SONGS_NAMES = []\n",
        "FINAL_NAMES_LIST = []\n",
        "\n",
        "print('Gathering file names...')\n",
        "dataset_addr = \"/content/Songs\"\n",
        "os.chdir(dataset_addr)\n",
        "filez = [y for x in os.walk(dataset_addr) for y in glob(os.path.join(x[0], '*.mid'), recursive=True)]\n",
        "\n",
        "print('Processing MIDI files. Please wait...')\n",
        "print('=' * 100)\n",
        "for f in tqdm.auto.tqdm(filez):\n",
        "  try:\n",
        "    SIG_SIMPLE, SIG_FULL, ALL_F, PRL = ClassyMIDI.get_signatures(f)\n",
        "    fn = os.path.basename(f)\n",
        "    fnn = fn.split('.')[0]\n",
        "    fnnn = []\n",
        "\n",
        "    X = list(PRL.flatten())\n",
        "    s = secrets.randbelow(len(X))\n",
        "    SONG_DATA.append([f, fnn, fnnn, SIG_SIMPLE, SIG_FULL, ALL_F.tolist(), X[s:s+64]])\n",
        "\n",
        "    RATINGS_LIST = []\n",
        "    song_name = ''\n",
        "\n",
        "    for i in range(1, len(CLASS_DATA)):\n",
        "      if match_by == 'full_signature':\n",
        "        RATINGS_LIST.append(fuzz.ratio(SIG_FULL, CLASS_DATA[i][4]))\n",
        "      \n",
        "      if match_by == 'short_signature':\n",
        "        RATINGS_LIST.append(fuzz.ratio(SIG_SIMPLE, CLASS_DATA[i][3]))\n",
        "      \n",
        "      if match_by == 'random_piano_roll_signature':\n",
        "        RATINGS_LIST.append(fuzz.ratio(PRL.tolist(), CLASS_DATA[i][-1]))\n",
        "      \n",
        "      if match_by == 'full_float_signature':\n",
        "        RATINGS_LIST.append(fuzz.ratio(ALL_F.tolist(), CLASS_DATA[i][-2]))\n",
        "    \n",
        "    MAX_idx = max(RATINGS_LIST)\n",
        "    MATCH_idx = RATINGS_LIST.index(MAX_idx)\n",
        "\n",
        "    SONG_CLASS_DATA.append(CLASS_DATA[MATCH_idx])\n",
        "    \n",
        "    if CLASS_DATA[MATCH_idx][2] is str:\n",
        "      song_name = CLASS_DATA[MATCH_idx][2].replace('.MID', '').replace('.mid', '').replace('/', '_').replace(' ', '_').replace('.', '_') #.replace('-', '_')\n",
        "    \n",
        "    if len(CLASS_DATA[MATCH_idx][2]) > 1:\n",
        "      song_name = CLASS_DATA[MATCH_idx][2][0].replace('.MID', '').replace('.mid', '').replace('/', '_').replace(' ', '_').replace('.', '_') #.replace('-', '_')\n",
        "    else:\n",
        "      song_name = CLASS_DATA[MATCH_idx][2][0].replace('.MID', '').replace('.mid', '').replace('/', '_').replace(' ', '_').replace('.', '_') #.replace('-', '_')\n",
        "    \n",
        "    if CLASS_DATA[MATCH_idx][2] == []:\n",
        "      song_name = CLASS_DATA[MATCH_idx][1].replace('.MID', '').replace('.mid', '').replace('/', '_').replace(' ', '_').replace('.', '_') #.replace('-', '_')\n",
        "\n",
        "    SONGS_NAMES.append(song_name)\n",
        "    FINAL_NAMES_LIST.append([fnn, song_name, MAX_idx])\n",
        "    \n",
        "    if leave_original_file_names_on_copies:\n",
        "      fnnn = '../Output/' + fnn + '---' + song_name + '_' + str(files_count) + '.mid'\n",
        "    else:\n",
        "      fnnn = '../Output/' + song_name + '_' + str(files_count) + '.mid'\n",
        "\n",
        "    if desired_prefix_for_song_new_name != '' and leave_original_file_names_on_copies == False:\n",
        "      fnnn = '../Output/' + desired_prefix_for_song_new_name + '---' + song_name + '_' + str(files_count) + '.mid'\n",
        "      \n",
        "\n",
        "    copyfile(f, fnnn)\n",
        "    print('=' * 100)\n",
        "    \n",
        "    print(fnn, '|', MAX_idx, '|', song_name.replace('__', '-').replace('_', ' '), '|')\n",
        "    print('=' * 100)\n",
        "    \n",
        "    pprint([f, fnn, fnnn, SIG_SIMPLE, SIG_FULL, ALL_F.tolist(), X[s:s+64]], compact=True)\n",
        "    print('=' * 100)\n",
        "    \n",
        "    files_count += 1\n",
        "\n",
        "  except KeyboardInterrupt:\n",
        "    break\n",
        "\n",
        "  except:\n",
        "    print('Bad file', f)\n",
        "    continue\n",
        "\n",
        "print('Done! Enjoy! :)')"
      ],
      "execution_count": null,
      "outputs": []
    },
    {
      "cell_type": "markdown",
      "metadata": {
        "id": "PdvVSADQCLlt"
      },
      "source": [
        "# Print results if needed"
      ]
    },
    {
      "cell_type": "code",
      "metadata": {
        "cellView": "form",
        "id": "byKQ4KdYB4ar"
      },
      "source": [
        "#@title Print SONG_DATA\n",
        "\n",
        "pprint(SONG_DATA, compact=True)"
      ],
      "execution_count": null,
      "outputs": []
    },
    {
      "cell_type": "code",
      "metadata": {
        "cellView": "form",
        "id": "u4Eljzn5BzV7"
      },
      "source": [
        "#@title Print SONG_CLASS_DATA\n",
        "\n",
        "pprint(SONG_CLASS_DATA, compact=True)"
      ],
      "execution_count": null,
      "outputs": []
    },
    {
      "cell_type": "code",
      "metadata": {
        "cellView": "form",
        "id": "_GiFiuS_TnQl"
      },
      "source": [
        "#@title Print SONGS_NAMES\n",
        "\n",
        "pprint(SONGS_NAMES, compact=True)"
      ],
      "execution_count": null,
      "outputs": []
    },
    {
      "cell_type": "code",
      "metadata": {
        "cellView": "form",
        "id": "fCKYnlfYBeZw"
      },
      "source": [
        "#@title Print FINAL_NAMES_LIST\n",
        "\n",
        "pprint(FINAL_NAMES_LIST, compact=True)"
      ],
      "execution_count": null,
      "outputs": []
    },
    {
      "cell_type": "code",
      "metadata": {
        "cellView": "form",
        "id": "aTa54tF5ZJls"
      },
      "source": [
        "#@title Save the above data as a pickle file\n",
        "TMIDI.Tegridy_Pickle_File_Writer([SONG_DATA, SONG_CLASS_DATA, SONGS_NAMES, FINAL_NAMES_LIST], '/content/ClassyMIDI-Bulk-Conversion-Data')"
      ],
      "execution_count": null,
      "outputs": []
    },
    {
      "cell_type": "markdown",
      "metadata": {
        "id": "7GJ4NOm5lH38"
      },
      "source": [
        "# Congrats! You did it! :)"
      ]
    }
  ]
}