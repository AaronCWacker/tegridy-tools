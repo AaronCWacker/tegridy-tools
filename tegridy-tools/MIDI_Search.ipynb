{
  "nbformat": 4,
  "nbformat_minor": 0,
  "metadata": {
    "kernelspec": {
      "display_name": "Python 3",
      "language": "python",
      "name": "python3"
    },
    "language_info": {
      "codemirror_mode": {
        "name": "ipython",
        "version": 3
      },
      "file_extension": ".py",
      "mimetype": "text/x-python",
      "name": "python",
      "nbconvert_exporter": "python",
      "pygments_lexer": "ipython3",
      "version": "3.8.5"
    },
    "colab": {
      "name": "MIDI_Search.ipynb",
      "private_outputs": true,
      "provenance": [],
      "collapsed_sections": [],
      "machine_shape": "hm"
    }
  },
  "cells": [
    {
      "cell_type": "markdown",
      "metadata": {
        "id": "QA0W-VK1JVQl"
      },
      "source": [
        "# MIDI Search (Ver 1.1)\n",
        "\n",
        "***\n",
        "\n",
        "## MIDI Search/Plagiarizm checker\n",
        "\n",
        "***\n",
        "\n",
        "#### Project Los Angeles\n",
        "\n",
        "#### Tegridy Code 2021\n",
        "\n",
        "***"
      ]
    },
    {
      "cell_type": "markdown",
      "metadata": {
        "id": "eftzIVKrqR5S"
      },
      "source": [
        "# Setup Environment, clone needed repos, and install all required dependencies"
      ]
    },
    {
      "cell_type": "code",
      "metadata": {
        "id": "HsUtsJGNz6f2",
        "cellView": "form"
      },
      "source": [
        "#@title Install all dependencies (run only once per session)\n",
        "!git clone https://github.com/asigalov61/tegridy-tools\n",
        "!apt install fluidsynth #Pip does not work for some reason. Only apt works\n",
        "!pip install midi2audio"
      ],
      "execution_count": null,
      "outputs": []
    },
    {
      "cell_type": "code",
      "metadata": {
        "id": "pf8B3p6QySmE",
        "cellView": "form"
      },
      "source": [
        "#@title Import all needed modules\n",
        "\n",
        "print('Loading needed modules. Please wait...')\n",
        "import os\n",
        "\n",
        "import pickle\n",
        "\n",
        "os.chdir('/content/tegridy-tools/tegridy-tools')\n",
        "import TMIDI\n",
        "import MIDI\n",
        "\n",
        "from midi2audio import FluidSynth\n",
        "from IPython.display import display, Javascript, HTML, Audio\n",
        "\n",
        "from google.colab import output, drive\n",
        "\n",
        "chords_list_f = []\n",
        "melody_list_f = []\n",
        "\n",
        "os.chdir('/content/')\n",
        "print('Loading complete. Enjoy! :)')"
      ],
      "execution_count": null,
      "outputs": []
    },
    {
      "cell_type": "markdown",
      "metadata": {
        "id": "N2Pv5eNRqiyr"
      },
      "source": [
        "# Download and process desired MIDI datasets\r\n",
        "\r\n",
        "## PLEASE NOTE: You need to have at least 16GB free RAM to load large datasets"
      ]
    },
    {
      "cell_type": "code",
      "metadata": {
        "id": "lUiE4NDt0qIh",
        "cellView": "form"
      },
      "source": [
        "#@title Download complete (large) pre-processed MIDI datasets\r\n",
        "%cd /content/\r\n",
        "\r\n",
        "# POP909 dataset (Complete)\r\n",
        "# https://github.com/music-x-lab/POP909-Dataset\r\n",
        "!wget --no-check-certificate -O POP.zip \"https://onedrive.live.com/download?cid=8A0D502FC99C608F&resid=8A0D502FC99C608F%2118362&authkey=AD3_7eDWpgUhcaw\"\r\n",
        "!unzip POP.zip\r\n",
        "\r\n",
        "# groove2groove dataset (Complete)\r\n",
        "# https://github.com/cifkao/groove2groove\r\n",
        "# https://doi.org/10.5281/zenodo.3957999\r\n",
        "#!wget --no-check-certificate -O groove2groove.zip \"https://onedrive.live.com/download?cid=8A0D502FC99C608F&resid=8A0D502FC99C608F%2118365&authkey=AHr0I_2k_AZ110E\"\r\n",
        "#!unzip groove2groove.zip\r\n",
        "\r\n",
        "# Clean MIDI subset (Complete)\r\n",
        "# https://colinraffel.com/projects/lmd/\r\n",
        "# https://github.com/craffel/midi-dataset\r\n",
        "#!wget --no-check-certificate -O clean_midi.zip \"https://onedrive.live.com/download?cid=8A0D502FC99C608F&resid=8A0D502FC99C608F%2118368&authkey=AAFEzC5YBABk7rA\"\r\n",
        "#!unzip clean_midi.zip\r\n",
        "\r\n",
        "# Google Magenta Piano Transformer dataset (Complete)\r\n",
        "# https://github.com/asigalov61/Google-Magenta-Piano-Transformer-Colab\r\n",
        "#!wget --no-check-certificate -O piano_transformer.zip \"https://onedrive.live.com/download?cid=8A0D502FC99C608F&resid=8A0D502FC99C608F%2118369&authkey=AATJ2n_642HLGFI\"\r\n",
        "#!unzip piano_transformer.zip\r\n",
        "\r\n",
        "# Google MAESTRO Piano dataset (Complete)\r\n",
        "# https://magenta.tensorflow.org/datasets/maestro\r\n",
        "#!wget --no-check-certificate -O MAESTRO.zip \"https://onedrive.live.com/download?cid=8A0D502FC99C608F&resid=8A0D502FC99C608F%2118370&authkey=ABxzaWHKIeN1e3A\"\r\n",
        "#!unzip MAESTRO.zip\r\n",
        "\r\n",
        "%cd /content/"
      ],
      "execution_count": null,
      "outputs": []
    },
    {
      "cell_type": "code",
      "metadata": {
        "id": "xxa-UIeRZrfR",
        "cellView": "form"
      },
      "source": [
        "#@title Load/Merge and parse the dataset\n",
        "\n",
        "full_path_to_the_dataset = \"/content/POP.pkl\" #@param {type:\"string\"}\n",
        "merge_several_datasets = False #@param {type:\"boolean\"}\n",
        "\n",
        "print('Loading the dataset...Please wait...')\n",
        "with open(full_path_to_the_dataset, 'rb') as filehandle:\n",
        "  MusicDataset = pickle.load(filehandle)\n",
        "\n",
        "if merge_several_datasets:\n",
        "  print('Merging datasets...Please wait...')\n",
        "  chords_list_f.extend(MusicDataset[0])\n",
        "  melody_list_f.extend(MusicDataset[1])\n",
        "\n",
        "else:\n",
        "  chords_list = MusicDataset[0]\n",
        "  melody_list_f = MusicDataset[1]\n",
        "\n",
        "chords_list_f = [ele for inner_list in chords_list for ele in inner_list]\n",
        "\n",
        "print('Parsing the dataset...Please wait...')\n",
        "chords_notes_list = []\n",
        "melody_notes_list = []\n",
        "\n",
        "for chord in chords_list_f:\n",
        "  chords_notes_list.append(chord[4])\n",
        "\n",
        "for note in melody_list_f:\n",
        "  melody_notes_list.append(note[4])\n",
        "\n",
        "print('Done!')\n",
        "\n",
        "print('Number of chords recorded:', len(chords_list_f))\n",
        "print('The longest chord:', len(max(chords_list_f, key=len)), 'notes') \n",
        "print(max(chords_list_f, key=len))\n",
        "print('Number of recorded melody events:', len(melody_list_f))\n",
        "print('First melody event:', melody_list_f[0], 'Last Melody event:', melody_list_f[-1])\n",
        "print('Total number of MIDI events recorded:', len(chords_list_f)+len(melody_list_f))\n",
        "print('Dataset is loaded! Enjoy :)')"
      ],
      "execution_count": null,
      "outputs": []
    },
    {
      "cell_type": "markdown",
      "metadata": {
        "id": "-1ypXZoySkHJ"
      },
      "source": [
        "# If you are not sure where to start or what settings to select, please use original defaults"
      ]
    },
    {
      "cell_type": "code",
      "metadata": {
        "id": "bjGwbo9vkMg_",
        "cellView": "form"
      },
      "source": [
        "#@title Specify input MIDI file to search for\n",
        "full_path_to_input_MIDI_file = \"/content/tegridy-tools/tegridy-tools/seed.mid\" #@param {type:\"string\"}\n",
        "print('Loading the MIDI file...')\n",
        "chords, melody = TMIDI.Tegridy_MIDI_Processor(full_path_to_input_MIDI_file, \n",
        "                                              -1, \n",
        "                                              1,\n",
        "                                              )\n",
        "print('MIDI file loaded. Enjoy :)')"
      ],
      "execution_count": null,
      "outputs": []
    },
    {
      "cell_type": "code",
      "metadata": {
        "id": "20Nq-1fiXy4Q",
        "cellView": "form"
      },
      "source": [
        "#@title Initial Search\n",
        "number_of_notes_to_match = 5 #@param {type:\"slider\", min:2, max:10, step:1}\n",
        "\n",
        "output_song = []\n",
        "pattern = []\n",
        "\n",
        "print('Initial pattern search...')\n",
        "print('Loading input notes...')\n",
        "\n",
        "print('Input number of notes is', len(melody))\n",
        "output_song.extend(melody)\n",
        "\n",
        "for note in output_song[len(output_song)-number_of_notes_to_match:]:\n",
        "  pattern.append(note[4])\n",
        "\n",
        "#pattern = [69, 65, 66, 62, 63]\n",
        "\n",
        "print('Starting search...')\n",
        "print('Looking for pitches pattern', pattern)\n",
        "pattern_start_index = [i for i in range(0,len(chords_notes_list)) if list(chords_notes_list[i:i+len(pattern)])==pattern]\n",
        "\n",
        "if pattern_start_index == []:\n",
        "  print('Nothing found')\n",
        "else:\n",
        "  print('Found matching notes at index', pattern_start_index[0])"
      ],
      "execution_count": null,
      "outputs": []
    },
    {
      "cell_type": "code",
      "metadata": {
        "id": "GoNt_y4uqZuG",
        "cellView": "form"
      },
      "source": [
        "#@title Re-Search\r\n",
        "\r\n",
        "output_song = []\r\n",
        "pattern = []\r\n",
        "\r\n",
        "print('Pattern re-search...')\r\n",
        "\r\n",
        "pidx = pattern_start_index[0]+number_of_notes_to_match\r\n",
        "\r\n",
        "print('Loading input notes...')\r\n",
        "\r\n",
        "print('Input number of notes is', len(melody))\r\n",
        "output_song.extend(melody)\r\n",
        "\r\n",
        "for note in output_song[len(output_song)-number_of_notes_to_match:]:\r\n",
        "  pattern.append(note[4])\r\n",
        "\r\n",
        "#pattern = [69, 65, 66, 62, 63]\r\n",
        "\r\n",
        "print('Starting re-search...')\r\n",
        "print('Looking for pitches pattern', pattern)\r\n",
        "pattern_start_index = [i for i in range(pidx,len(chords_notes_list)) if list(chords_notes_list[i:i+len(pattern)])==pattern]\r\n",
        "\r\n",
        "if pattern_start_index == []:\r\n",
        "  print('Nothing found')\r\n",
        "else:\r\n",
        "  print('Found matching notes at index', pattern_start_index[0])"
      ],
      "execution_count": null,
      "outputs": []
    },
    {
      "cell_type": "markdown",
      "metadata": {
        "id": "FfgeQl8_rEox"
      },
      "source": [
        "# Generate, download, and listen to the output"
      ]
    },
    {
      "cell_type": "code",
      "metadata": {
        "id": "22qDcd4NO2bs",
        "cellView": "form"
      },
      "source": [
        "#@title Convert to MIDI\n",
        "import MIDI\n",
        "import copy\n",
        "#@markdown Standard MIDI timings are 400/120(80)\n",
        "\n",
        "number_of_ticks_per_quarter = 424 #@param {type:\"slider\", min:8, max:1000, step:8}\n",
        "number_of_notes_to_play = 100 #@param {type:\"slider\", min:1, max:200, step:1}\n",
        "simulate_velocity = True #@param {type:\"boolean\"}\n",
        "\n",
        "output_song = []\n",
        "\n",
        "for n in melody:\n",
        "  n[5] = n[4]\n",
        "  output_song.append(n)\n",
        "\n",
        "output_s = chords_list_f[pattern_start_index[0]+number_of_notes_to_match:pattern_start_index[0]+number_of_notes_to_play]\n",
        "delta = output_song[-1][1]\n",
        "out = copy.deepcopy(output_s)\n",
        "\n",
        "ptime = 0\n",
        "time = 0\n",
        "\n",
        "for n in range(len(out)-1):\n",
        "  no = copy.deepcopy(out[n])\n",
        "  no[1] = delta\n",
        "\n",
        "  output_song.append(no)\n",
        "  ptime = out[n][1]\n",
        "  time = out[n+1][1]\n",
        "  delta += time - ptime\n",
        "\n",
        "output_signature = 'MIDI Search'\n",
        "\n",
        "output_header = [number_of_ticks_per_quarter, [['track_name', 0, bytes(output_signature, 'utf-8')]]] \n",
        "\n",
        "list_of_MIDI_patches = [0, 24, 32, 40, 42, 46, 56, 71, 73, 0, 0, 0, 0, 0, 0, 0]                                                  \n",
        "\n",
        "patch_list = [['patch_change', 0, 0, list_of_MIDI_patches[0]], \n",
        "                ['patch_change', 0, 1, list_of_MIDI_patches[1]],\n",
        "                ['patch_change', 0, 2, list_of_MIDI_patches[2]],\n",
        "                ['patch_change', 0, 3, list_of_MIDI_patches[3]],\n",
        "                ['patch_change', 0, 4, list_of_MIDI_patches[4]],\n",
        "                ['patch_change', 0, 5, list_of_MIDI_patches[5]],\n",
        "                ['patch_change', 0, 6, list_of_MIDI_patches[6]],\n",
        "                ['patch_change', 0, 7, list_of_MIDI_patches[7]],\n",
        "                ['patch_change', 0, 8, list_of_MIDI_patches[8]],\n",
        "                ['patch_change', 0, 9, list_of_MIDI_patches[9]],\n",
        "                ['patch_change', 0, 10, list_of_MIDI_patches[10]],\n",
        "                ['patch_change', 0, 11, list_of_MIDI_patches[11]],\n",
        "                ['patch_change', 0, 12, list_of_MIDI_patches[12]],\n",
        "                ['patch_change', 0, 13, list_of_MIDI_patches[13]],\n",
        "                ['patch_change', 0, 14, list_of_MIDI_patches[14]],\n",
        "                ['patch_change', 0, 15, list_of_MIDI_patches[15]],\n",
        "                ['track_name', 0, bytes('Composition Track', 'utf-8')]]\n",
        "\n",
        "\n",
        "output = output_header + [patch_list + output_song]\n",
        "\n",
        "midi_data = MIDI.score2midi(output)\n",
        "detailed_MIDI_stats = MIDI.score2stats(output)\n",
        "\n",
        "with open('MIDI_Search' + '.mid', 'wb') as midi_file:\n",
        "    midi_file.write(midi_data)\n",
        "    midi_file.close()\n",
        "print('Done!')\n",
        "\n",
        "from google.colab import files\n",
        "files.download('MIDI_Search' + '.mid')\n",
        "print('Detailed MIDI stats:')\n",
        "detailed_MIDI_stats"
      ],
      "execution_count": null,
      "outputs": []
    },
    {
      "cell_type": "code",
      "metadata": {
        "id": "kILhoHR7JmmS",
        "cellView": "form"
      },
      "source": [
        "#@title Listen to the last generated composition\n",
        "#@markdown NOTE: May be very slow with the long compositions\n",
        "print('Synthesizing the last output MIDI. Please stand-by... ')\n",
        "FluidSynth(\"/usr/share/sounds/sf2/FluidR3_GM.sf2\", 16000).midi_to_audio(str('MIDI_Search' + '.mid'), str('MIDI_Search' + '.wav'))\n",
        "Audio(str('MIDI_Search' + '.wav'), rate=16000)"
      ],
      "execution_count": null,
      "outputs": []
    },
    {
      "cell_type": "markdown",
      "metadata": {
        "id": "2Snu3fb4N-Nd"
      },
      "source": [
        "## Congrats! :) You did it :)"
      ]
    }
  ]
}